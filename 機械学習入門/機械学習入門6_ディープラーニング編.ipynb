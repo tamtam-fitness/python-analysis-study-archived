{
 "cells": [
  {
   "cell_type": "code",
   "execution_count": 24,
   "metadata": {},
   "outputs": [],
   "source": [
    "import keras\n",
    "from keras.datasets import fashion_mnist \n",
    "from keras.layers import Dense, Activation, Flatten, Conv2D, MaxPooling2D\n",
    "from keras.models import Sequential\n",
    "from keras.utils import to_categorical\n",
    "import numpy as np\n",
    "import matplotlib.pyplot as plt"
   ]
  },
  {
   "cell_type": "code",
   "execution_count": 25,
   "metadata": {},
   "outputs": [],
   "source": [
    "#データを分割する\n",
    "(train_X,train_Y), (test_X,test_Y) = fashion_mnist.load_data()"
   ]
  },
  {
   "cell_type": "code",
   "execution_count": 26,
   "metadata": {},
   "outputs": [],
   "source": [
    "#CNNをつかうためのおまじないをする\n",
    "#今回はグレースケールイメージである1を設定\n",
    "train_X = train_X.reshape(-1, 28,28, 1)\n",
    "test_X = test_X.reshape(-1, 28,28, 1)"
   ]
  },
  {
   "cell_type": "code",
   "execution_count": 12,
   "metadata": {},
   "outputs": [
    {
     "data": {
      "text/plain": [
       "(60000, 28, 28, 1)"
      ]
     },
     "execution_count": 12,
     "metadata": {},
     "output_type": "execute_result"
    }
   ],
   "source": [
    "train_X.shape"
   ]
  },
  {
   "cell_type": "code",
   "execution_count": 34,
   "metadata": {},
   "outputs": [
    {
     "data": {
      "text/plain": [
       "<matplotlib.image.AxesImage at 0x1ede816f688>"
      ]
     },
     "execution_count": 34,
     "metadata": {},
     "output_type": "execute_result"
    },
    {
     "data": {
      "image/png": "[encoded data removed]",
      "text/plain": [
       "<Figure size 432x288 with 1 Axes>"
      ]
     },
     "metadata": {
      "needs_background": "light"
     },
     "output_type": "display_data"
    }
   ],
   "source": [
    "#trainの画像をみてみる\n",
    "img_index = 100 #⇒これに関してはindexを変えることで別の画像を表示させることができる\n",
    "img = train_X[img_index]\n",
    "plt.imshow(img)"
   ]
  },
  {
   "cell_type": "code",
   "execution_count": 13,
   "metadata": {},
   "outputs": [],
   "source": [
    "#モデルが学習する速度が向上するためのおまじないをする\n",
    "train_X = train_X.astype('float32')\n",
    "test_X = test_X.astype('float32')\n",
    "train_X = train_X / 255\n",
    "test_X = test_X / 255"
   ]
  },
  {
   "cell_type": "code",
   "execution_count": 14,
   "metadata": {},
   "outputs": [],
   "source": [
    "#0～9までの数字にカテゴライズする\n",
    "train_Y_one_hot = to_categorical(train_Y)\n",
    "test_Y_one_hot = to_categorical(test_Y)"
   ]
  },
  {
   "cell_type": "code",
   "execution_count": 15,
   "metadata": {},
   "outputs": [],
   "source": [
    "#CNNのモデルを作成しトレーニングをする\n",
    "model = Sequential()\n",
    "model.add(Conv2D(64, (3,3), input_shape=(28, 28, 1)))\n",
    "model.add(Activation('relu'))\n",
    "model.add(MaxPooling2D(pool_size=(2,2)))\n",
    "model.add(Conv2D(64, (3,3)))\n",
    "model.add(Activation('relu'))\n",
    "model.add(MaxPooling2D(pool_size=(2,2)))\n",
    "model.add(Flatten())\n",
    "model.add(Dense(64))\n",
    "model.add(Dense(10))\n",
    "model.add(Activation('softmax'))\n",
    "model.compile(loss=keras.losses.categorical_crossentropy, optimizer=keras.optimizers.Adam(),metrics=['accuracy'])"
   ]
  },
  {
   "cell_type": "code",
   "execution_count": 19,
   "metadata": {},
   "outputs": [
    {
     "name": "stdout",
     "output_type": "stream",
     "text": [
      "Epoch 1/10\n",
      "938/938 [==============================] - 77s 83ms/step - loss: 0.4605 - accuracy: 0.8314\n",
      "Epoch 2/10\n",
      "938/938 [==============================] - 82s 87ms/step - loss: 0.3155 - accuracy: 0.8855\n",
      "Epoch 3/10\n",
      "938/938 [==============================] - 84s 90ms/step - loss: 0.2764 - accuracy: 0.89911s\n",
      "Epoch 4/10\n",
      "938/938 [==============================] - 80s 86ms/step - loss: 0.2495 - accuracy: 0.9095\n",
      "Epoch 5/10\n",
      "938/938 [==============================] - 80s 85ms/step - loss: 0.2321 - accuracy: 0.9152\n",
      "Epoch 6/10\n",
      "938/938 [==============================] - 88s 94ms/step - loss: 0.2131 - accuracy: 0.9228\n",
      "Epoch 7/10\n",
      "938/938 [==============================] - 87s 93ms/step - loss: 0.1986 - accuracy: 0.9256\n",
      "Epoch 8/10\n",
      "938/938 [==============================] - 72s 77ms/step - loss: 0.1852 - accuracy: 0.9325\n",
      "Epoch 9/10\n",
      "938/938 [==============================] - 78s 83ms/step - loss: 0.1731 - accuracy: 0.9363\n",
      "Epoch 10/10\n",
      "938/938 [==============================] - 71s 76ms/step - loss: 0.1642 - accuracy: 0.9388\n"
     ]
    },
    {
     "data": {
      "text/plain": [
       "<tensorflow.python.keras.callbacks.History at 0x1ede01b4208>"
      ]
     },
     "execution_count": 19,
     "metadata": {},
     "output_type": "execute_result"
    }
   ],
   "source": [
    "#デスクトップのGPU的に10エポックに留めて学習させる\n",
    "model.fit(train_X, train_Y_one_hot, batch_size=64, epochs=10)"
   ]
  },
  {
   "cell_type": "code",
   "execution_count": 20,
   "metadata": {},
   "outputs": [
    {
     "name": "stdout",
     "output_type": "stream",
     "text": [
      "313/313 [==============================] - 3s 10ms/step - loss: 0.3152 - accuracy: 0.9022\n",
      "Test loss 0.3151668906211853\n",
      "Test accuracy 0.9021999835968018\n"
     ]
    }
   ],
   "source": [
    "#モデルを評価する\n",
    "test_loss, test_acc = model.evaluate(test_X, test_Y_one_hot)\n",
    "print('Test loss', test_loss)\n",
    "print('Test accuracy', test_acc)"
   ]
  },
  {
   "cell_type": "code",
   "execution_count": 21,
   "metadata": {},
   "outputs": [
    {
     "name": "stdout",
     "output_type": "stream",
     "text": [
      "9\n"
     ]
    }
   ],
   "source": [
    "#＜＜予測結果を出力＞＞\n",
    "predictions = model.predict(test_X)\n",
    "print(np.argmax(np.round(predictions[0])))"
   ]
  },
  {
   "cell_type": "code",
   "execution_count": 33,
   "metadata": {},
   "outputs": [
    {
     "data": {
      "image/png": "[encoded data removed]",
      "text/plain": [
       "<Figure size 432x288 with 1 Axes>"
      ]
     },
     "metadata": {
      "needs_background": "light"
     },
     "output_type": "display_data"
    }
   ],
   "source": [
    "#＜＜実際の結果を出力＞＞\n",
    "# 0 = Tシャツ/トップ\n",
    "# 1 =パンツ\n",
    "# 2 =プルオーバー\n",
    "# 3 =ドレス\n",
    "# 4 =コート\n",
    "# 5 =サンダル\n",
    "# 6 =シャツ\n",
    "# 7 =スニーカー\n",
    "# 8 =バッグ\n",
    "# 9 =ショートブーツ\n",
    "plt.imshow(test_X[0].reshape(28, 28))\n",
    "plt.show()"
   ]
  }
 ],
 "metadata": {
  "kernelspec": {
   "display_name": "numpyenv",
   "language": "python",
   "name": "numpyenv"
  },
  "language_info": {
   "codemirror_mode": {
    "name": "ipython",
    "version": 3
   },
   "file_extension": ".py",
   "mimetype": "text/x-python",
   "name": "python",
   "nbconvert_exporter": "python",
   "pygments_lexer": "ipython3",
   "version": "3.7.7"
  }
 },
 "nbformat": 4,
 "nbformat_minor": 4
}
