{
 "cells": [
  {
   "cell_type": "markdown",
   "metadata": {},
   "source": [
    "全ての指標を関数化させる"
   ]
  },
  {
   "cell_type": "code",
   "execution_count": 21,
   "metadata": {},
   "outputs": [],
   "source": [
    "import pandas as pd\n",
    "from numpy import nan\n",
    "\n",
    "def slide(present):\n",
    "    past = present.shift(-1)\n",
    "    growth_rate  = (present - past)/past *100\n",
    "    return growth_rate.dropna()"
   ]
  },
  {
   "cell_type": "code",
   "execution_count": 22,
   "metadata": {},
   "outputs": [],
   "source": [
    "def w_ave(x):\n",
    "    sum_wa = 0\n",
    "    count=0\n",
    "    \n",
    "    #欠損値を削除\n",
    "    x_dropna = x.dropna()\n",
    "    \n",
    "    #シリーズ型のためvalueのみ取り出している\n",
    "    for quarter in x_dropna.values:\n",
    "        count += 1\n",
    "        weight = quarter * count\n",
    "        sum_wa += weight \n",
    "        \n",
    "    if sum_wa == 0 :\n",
    "        return nan\n",
    "    else:\n",
    "        return sum_wa / ((1/2)*count*(count+1))"
   ]
  },
  {
   "cell_type": "code",
   "execution_count": 23,
   "metadata": {},
   "outputs": [],
   "source": [
    "#第2章のデータのクレンジングで使用\n",
    "def w_ave(x):\n",
    "    sum_wa = 0\n",
    "    count=0\n",
    "    \n",
    "    #欠損値を削除\n",
    "    x_dropna = x.dropna()\n",
    "    \n",
    "    #シリーズ型のためvalueのみ取り出している\n",
    "    for quarter in x_dropna.values:\n",
    "        count += 1\n",
    "        weight = quarter * count\n",
    "        sum_wa += weight \n",
    "        \n",
    "    if sum_wa == 0 :\n",
    "        return nan\n",
    "    else:\n",
    "        result = sum_wa / ((1/2)*count*(count+1))\n",
    "        if result == float('inf') :\n",
    "            return nan\n",
    "        else :\n",
    "            return result"
   ]
  },
  {
   "cell_type": "code",
   "execution_count": 24,
   "metadata": {},
   "outputs": [],
   "source": [
    "def growth_potential(df_q):\n",
    "    #売上成長\n",
    "    gp1_slide = slide(df_q[\"net_sales\"])\n",
    "    gp1_nsgr =w_ave(gp1_slide)\n",
    "    #営業利益成長率\n",
    "    gp2_slide = slide(df_q[\"operating_income\"])\n",
    "    gp2_oigr =w_ave(gp2_slide)\n",
    "    return  gp1_nsgr, gp2_oigr"
   ]
  },
  {
   "cell_type": "code",
   "execution_count": 25,
   "metadata": {},
   "outputs": [],
   "source": [
    "def profitability(df_q):\n",
    "    #ROE\n",
    "    pr1_roe = w_ave(df_q[\"roe\"])  \n",
    "    #営業利益率\n",
    "    pr2_om = w_ave(df_q[\"operating_margin\"]) \n",
    "    return pr1_roe, pr2_om"
   ]
  },
  {
   "cell_type": "code",
   "execution_count": 26,
   "metadata": {},
   "outputs": [],
   "source": [
    "def labor_productivity(df_q):\n",
    "    #1人当たり売上高\n",
    "    lp1_nspe = w_ave(df_q[\"net_sales_per_employee\"])\n",
    "    #1人当たり営業CF\n",
    "    lp2_oipe = w_ave(df_q[\"operating_income_per_employee\"])\n",
    "    return lp1_nspe, lp2_oipe"
   ]
  },
  {
   "cell_type": "code",
   "execution_count": 27,
   "metadata": {},
   "outputs": [],
   "source": [
    "def efficiency(df_q):\n",
    "    #総資産回転率\n",
    "    e1_tat = w_ave(df_q[\"total_asset_turnover\"])\n",
    "    #<2:CCC(キャッシュコンバージョンサイクル) = 売上債権回転期間 + 棚卸資産回転期間 – 支払債務回転期間)>\n",
    "    e2_df = df_q[[\"accounts_receivable_turnover\",\"inventory_turnover\",\"trade_payable_turnover\"]]\n",
    "    e2_ccc = w_ave(e2_df[\"trade_payable_turnover\"])+w_ave(e2_df[\"inventory_turnover\"])-w_ave(e2_df[\"accounts_receivable_turnover\"])\n",
    "    return e1_tat,e2_ccc"
   ]
  },
  {
   "cell_type": "code",
   "execution_count": 28,
   "metadata": {},
   "outputs": [],
   "source": [
    "def safety(df_q):\n",
    "    #自己資本比率 equity_ratio\n",
    "    s1_er = w_ave(df_q[\"equity_ratio\"])\n",
    "    #ネットD/Eレシオ = 純有利子負債 net_debt/ 自己資本 equity\n",
    "    s2_df = df_q[[\"net_debt\",\"equity\"]]\n",
    "    s2_nder = w_ave(s2_df[\"net_debt\"]/s2_df[\"equity\"])\n",
    "    return  s1_er, s2_nder"
   ]
  },
  {
   "cell_type": "code",
   "execution_count": 29,
   "metadata": {},
   "outputs": [],
   "source": [
    "def shareholder_returnability(df_q):\n",
    "    #<1:配当性向 Dividend payout ratio (%）＝ 1株あたり配当金 Dividends per share ÷1株あたり純利益（EPS）×100>\n",
    "    sr1_df = df_q[[\"dividend\",\"eps_actual\"]]\n",
    "    sr1_dpr = w_ave(sr1_df[\"dividend\"] /sr1_df[\"eps_actual\"] * 100)\n",
    "    #<2:株主資本配当率 DOE(株主資本配当率）＝ 年間総配当額 ÷ 自己資本>\n",
    "    sr2_doe = w_ave(df_q[\"doe\"])\n",
    "    return sr1_dpr,sr2_doe"
   ]
  },
  {
   "cell_type": "code",
   "execution_count": 30,
   "metadata": {},
   "outputs": [],
   "source": [
    "def dc_merge(daily,current):\n",
    "    if current[0] is None:\n",
    "        return daily\n",
    "    else : \n",
    "        dcm = pd.concat([daily,current],axis = 0)\n",
    "        return dcm\n",
    "\n",
    "def capital_gain(df_day,df_c):\n",
    "    df_cg = df_day[[\"market_capital\",\"num_of_shares\"]]\n",
    "    cg_d = df_cg[\"market_capital\"]/df_cg[\"num_of_shares\"]\n",
    "    cg_c = df_c[\"stockprice\"]\n",
    "    cg_merge = dc_merge(cg_d,cg_c)\n",
    "    cg_before = cg_merge\n",
    "    cg_after = cg_merge.shift(-1)\n",
    "    #slide関数では100倍するため注意\n",
    "    cg_ab = (cg_after - cg_before)/cg_before\n",
    "    cg = w_ave(cg_ab)\n",
    "    return cg"
   ]
  },
  {
   "cell_type": "code",
   "execution_count": 16,
   "metadata": {
    "scrolled": true
   },
   "outputs": [
    {
     "name": "stdout",
     "output_type": "stream",
     "text": [
      "加工したい元データを記入してくださいticker\n",
      "取得が完了しました\n"
     ]
    }
   ],
   "source": [
    "#取得したCSVデータを読み込む際に、もとの証券コードのリストを頼りにしている\n",
    "ticker_list = input(\"加工したい元データを記入してください\")\n",
    "\n",
    "with open(f\"ticker_list/{ticker_list}.txt\" ,mode = \"r\") as f:\n",
    "    file = f.read()\n",
    "ticker_list_three = file.split(\"\\n\")\n",
    "\n",
    "if ticker_list == \"ticker\" :\n",
    "    with open(\"ticker_list/ticker_count.txt\" , mode = \"r\") as f:\n",
    "        count_int = int(f.read())\n",
    "    count = count_int\n",
    "    ticker_data = \",\".join(ticker_list_three[:count])\n",
    "    ticker_data = ticker_data.split(\",\")\n",
    "\n",
    "else :\n",
    "    ticker_data = \",\".join(ticker_list_three)\n",
    "    ticker_data = ticker_data.split(\",\")\n",
    "    \n",
    "print(\"取得が完了しました\")"
   ]
  },
  {
   "cell_type": "code",
   "execution_count": null,
   "metadata": {},
   "outputs": [],
   "source": [
    "ticker_data"
   ]
  },
  {
   "cell_type": "code",
   "execution_count": null,
   "metadata": {},
   "outputs": [],
   "source": [
    "processed_df = []\n",
    "\n",
    "for i in range(len(ticker_data)):\n",
    "    ticker = ticker_data[i]\n",
    "    if not ticker.isdecimal():\n",
    "        break\n",
    "    df_q = pd.read_csv(f\"df_q/{ticker_data[i]}.csv\")\n",
    "    df_day = pd.read_csv(f\"df_day/{ticker_data[i]}.csv\")\n",
    "    df_c = pd.read_csv(f\"df_c/{ticker_data[i]}.csv\")\n",
    "\n",
    "    \n",
    "    gp1_nsgr, gp2_oigr = growth_potential(df_q)\n",
    "    pr1_roe, pr2_om = profitability(df_q)\n",
    "    lp1_nspe, lp2_oipe= labor_productivity(df_q)\n",
    "    e1_tat,e2_ccc = efficiency(df_q)\n",
    "    s1_er, s2_nder = safety(df_q)\n",
    "    sr1_dpr,sr2_doe = shareholder_returnability(df_q)\n",
    "    cg = capital_gain(df_day,df_c)\n",
    "    \n",
    "\n",
    "    company = df_q.loc[ :,\"company_name\"]\n",
    "    df_q.index.name = company[0]\n",
    "    df_list =pd.DataFrame({\"company\":[df_q.index.name],\n",
    "                        \"code\":[ticker],\n",
    "                        \"sales_growth_rate\":[gp1_nsgr],\n",
    "                        \"operating_income_growth_rate\":[gp2_oigr],\n",
    "                        \"roe\":[pr1_roe],\n",
    "                        \"operating_margin\":[pr2_om],\n",
    "                        \"net_sales_per_employee\":[lp1_nspe],\n",
    "                        \"operating_income_per_employee\":[lp2_oipe],\n",
    "                         \"total_assets_turnover\":[e1_tat],\n",
    "                        \"ccc\":[e2_ccc],\n",
    "                       \"equity_ratio\":[s1_er],\n",
    "                        \"net_d/e_ratio\":[s2_nder],\n",
    "                        \"dividend_payout_ratio\":[sr1_dpr],\n",
    "                         \"doe\":[sr2_doe],\n",
    "                        \"capital_gain\":[cg]\n",
    "                        })\n",
    "    \n",
    "    processed_df.append(df_list)\n",
    "    \n",
    "processed_df"
   ]
  },
  {
   "cell_type": "code",
   "execution_count": 18,
   "metadata": {},
   "outputs": [],
   "source": [
    "#データを保存する\n",
    "processed_data = pd.concat([processed_df[i] for i in range(len(ticker_data)-1)])\n",
    "processed_data.to_csv(\"ProcessedData.csv\",index = False,encoding = \"utf_8_sig\")"
   ]
  },
  {
   "cell_type": "code",
   "execution_count": null,
   "metadata": {},
   "outputs": [],
   "source": [
    "#データを読み込む\n",
    "processed_data = pd.read_csv(\"ProcessedData.csv\")\n",
    "processed_data"
   ]
  },
  {
   "cell_type": "code",
   "execution_count": null,
   "metadata": {},
   "outputs": [],
   "source": [
    "#欠損値があるか調べる\n",
    "processed_data.isnull().sum()"
   ]
  },
  {
   "cell_type": "code",
   "execution_count": null,
   "metadata": {},
   "outputs": [],
   "source": [
    "#nanのある企業を特定 (補足 企業を見たい方向け)\n",
    "data_nan = processed_data[processed_data.isnull().any(1)]\n",
    "data_nan"
   ]
  },
  {
   "cell_type": "code",
   "execution_count": null,
   "metadata": {},
   "outputs": [],
   "source": [
    "#欠損値を埋める\n",
    "processed_data = processed_data.fillna(processed_data.median())\n",
    "processed_data.isnull().sum()"
   ]
  },
  {
   "cell_type": "code",
   "execution_count": null,
   "metadata": {},
   "outputs": [],
   "source": [
    "# infがあるか確認\n",
    "for i in  processed_data.columns:\n",
    "    print(i, len(processed_data[processed_data[f\"{i}\"] == float(\"inf\")] ))"
   ]
  },
  {
   "cell_type": "code",
   "execution_count": null,
   "metadata": {},
   "outputs": [],
   "source": [
    "#infのある行を特定  (補足 企業を見たい方向け)\n",
    "data_inf =pd.DataFrame()\n",
    "for i in  processed_data.columns:\n",
    "    pd_inf = processed_data[processed_data[f\"{i}\"] == float(\"inf\")]\n",
    "    data_inf = pd.concat([data_inf,pd_inf],axis = 0)\n",
    "    \n",
    "data_inf"
   ]
  },
  {
   "cell_type": "code",
   "execution_count": null,
   "metadata": {},
   "outputs": [],
   "source": [
    "#各指標を確認すると、下記の指標にinfがあることがわかる"
   ]
  },
  {
   "cell_type": "code",
   "execution_count": null,
   "metadata": {},
   "outputs": [],
   "source": [
    "# operating_income_growth_rate \n",
    "gp2_slide = slide(df_q[\"operating_income\"])\n",
    "gp2_oigr =w_ave(gp2_slide)\n",
    "\n",
    "# net_d/e_ratio \n",
    "s2_df = df_q[[\"net_debt\",\"equity\"]]\n",
    "s2_nder = w_ave(s2_df[\"net_debt\"]/s2_df[\"equity\"])\n",
    "\n",
    "# dividend_payout_ratio \n",
    "sr1_df = df_q[[\"dividend\",\"eps_actual\"]]\n",
    "sr1_dpr = w_ave(sr1_df[\"dividend\"] /sr1_df[\"eps_actual\"] * 100)\n",
    "\n",
    "# capital_gain \n",
    "cg_ab = (cg_after - cg_before)/cg_before\n",
    "cg = w_ave(cg_ab)"
   ]
  },
  {
   "cell_type": "code",
   "execution_count": 1,
   "metadata": {},
   "outputs": [],
   "source": [
    "#加重平均関数を修正する\n",
    "def w_ave(x):\n",
    "    sum_wa = 0\n",
    "    count=0\n",
    "    \n",
    "    #欠損値を削除\n",
    "    x_dropna = x.dropna()\n",
    "    \n",
    "    #シリーズ型のためvalueのみ取り出している\n",
    "    for quarter in x_dropna.values:\n",
    "        count += 1\n",
    "        weight = quarter * count\n",
    "        sum_wa += weight \n",
    "        \n",
    "    if sum_wa == 0 :\n",
    "        return nan\n",
    "    else:\n",
    "        result = sum_wa / ((1/2)*count*(count+1))\n",
    "        if result == float('inf') :\n",
    "            return nan\n",
    "        else :\n",
    "            return result"
   ]
  },
  {
   "cell_type": "code",
   "execution_count": null,
   "metadata": {},
   "outputs": [],
   "source": [
    "#加重平均関数を修正した上で、データの加工をしましょう！\n",
    "# nanに関しては 保存前に一括削除\n",
    "# infに関しては w_ave時点で削除"
   ]
  },
  {
   "cell_type": "code",
   "execution_count": null,
   "metadata": {},
   "outputs": [],
   "source": [
    "\"\"\"\"\n",
    "修正した加重平均関数を実行し、\n",
    "全12指標とキャピタルゲイン関数を実行し、\n",
    "銘柄コードを指定するticker_dataを出力したら、\n",
    "こちらのセルに移動し、下以降のセルを実行。\n",
    "\"\"\"\n",
    "processed_df = []\n",
    "\n",
    "for i in range(len(ticker_data)):\n",
    "    ticker = ticker_data[i]\n",
    "    if not ticker.isdecimal():\n",
    "        break\n",
    "    df_q = pd.read_csv(f\"df_q/{ticker_data[i]}.csv\")\n",
    "    df_day = pd.read_csv(f\"df_day/{ticker_data[i]}.csv\")\n",
    "    df_c = pd.read_csv(f\"df_c/{ticker_data[i]}.csv\")\n",
    "\n",
    "    \n",
    "    gp1_nsgr, gp2_oigr = growth_potential(df_q)\n",
    "    pr1_roe, pr2_om = profitability(df_q)\n",
    "    lp1_nspe, lp2_oipe= labor_productivity(df_q)\n",
    "    e1_tat,e2_ccc = efficiency(df_q)\n",
    "    s1_er, s2_nder = safety(df_q)\n",
    "    sr1_dpr,sr2_doe = shareholder_returnability(df_q)\n",
    "    cg = capital_gain(df_day,df_c)\n",
    "    \n",
    "\n",
    "    company = df_q.loc[ :,\"company_name\"]\n",
    "    df_q.index.name = company[0]\n",
    "    df_list =pd.DataFrame({\"company\":[df_q.index.name],\n",
    "                        \"code\":[ticker],\n",
    "                        \"sales_growth_rate\":[gp1_nsgr],\n",
    "                        \"operating_income_growth_rate\":[gp2_oigr],\n",
    "                        \"roe\":[pr1_roe],\n",
    "                        \"operating_margin\":[pr2_om],\n",
    "                        \"net_sales_per_employee\":[lp1_nspe],\n",
    "                        \"operating_income_per_employee\":[lp2_oipe],\n",
    "                         \"total_assets_turnover\":[e1_tat],\n",
    "                        \"ccc\":[e2_ccc],\n",
    "                       \"equity_ratio\":[s1_er],\n",
    "                        \"net_d/e_ratio\":[s2_nder],\n",
    "                        \"dividend_payout_ratio\":[sr1_dpr],\n",
    "                         \"doe\":[sr2_doe],\n",
    "                        \"capital_gain\":[cg]\n",
    "                        })\n",
    "    \n",
    "    processed_df.append(df_list)\n",
    "    \n",
    "processed_df"
   ]
  },
  {
   "cell_type": "code",
   "execution_count": 34,
   "metadata": {},
   "outputs": [],
   "source": [
    "processed_data = pd.concat([processed_df[i] for i in range(len(ticker_data)-1)])\n",
    "processed_data = processed_data.fillna(processed_data.median())\n",
    "#欠損値を埋めて保存\n",
    "processed_data.to_csv(\"ProcessedData.csv\",index = False,encoding = \"utf_8_sig\")"
   ]
  },
  {
   "cell_type": "code",
   "execution_count": null,
   "metadata": {},
   "outputs": [],
   "source": [
    "#再度読み込む\n",
    "processed_data = pd.read_csv(\"ProcessedData.csv\")\n",
    "processed_data"
   ]
  },
  {
   "cell_type": "code",
   "execution_count": null,
   "metadata": {},
   "outputs": [],
   "source": [
    "#再度確認\n",
    "processed_data.isnull().sum()"
   ]
  },
  {
   "cell_type": "code",
   "execution_count": null,
   "metadata": {},
   "outputs": [],
   "source": [
    "#再度確認\n",
    "for i in  processed_data.columns:\n",
    "    print(i, len(processed_data[processed_data[f\"{i}\"] == float(\"inf\")] ))"
   ]
  }
 ],
 "metadata": {
  "kernelspec": {
   "display_name": "Python 3",
   "language": "python",
   "name": "python3"
  },
  "language_info": {
   "codemirror_mode": {
    "name": "ipython",
    "version": 3
   },
   "file_extension": ".py",
   "mimetype": "text/x-python",
   "name": "python",
   "nbconvert_exporter": "python",
   "pygments_lexer": "ipython3",
   "version": "3.7.6"
  }
 },
 "nbformat": 4,
 "nbformat_minor": 4
}
