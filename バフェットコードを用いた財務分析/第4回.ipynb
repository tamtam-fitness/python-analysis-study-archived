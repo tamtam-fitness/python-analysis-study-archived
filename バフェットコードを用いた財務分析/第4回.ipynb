{
 "cells": [
  {
   "cell_type": "code",
   "execution_count": null,
   "metadata": {},
   "outputs": [],
   "source": [
    "import pandas as pd\n",
    "\n",
    "ticker = input(\"どの銘柄を読み込みますか？\")\n",
    "df_q = pd.read_csv(f\"df_q/{ticker}.csv\")\n",
    "df_day = pd.read_csv(f\"df_day/{ticker}.csv\")\n",
    "df_c = pd.read_csv(f\"df_c/{ticker}.csv\")"
   ]
  },
  {
   "cell_type": "code",
   "execution_count": null,
   "metadata": {},
   "outputs": [],
   "source": [
    "df_q"
   ]
  },
  {
   "cell_type": "code",
   "execution_count": 5,
   "metadata": {},
   "outputs": [],
   "source": [
    "#欠損値処理のため、nanをインポート\n",
    "from numpy import nan\n",
    "\n",
    "#求めたい四半期から過去の四半期を作成し、成長率を求める関数\n",
    "def slide(present):\n",
    "    past = present.shift(-1)\n",
    "    growth_rate  = (present - past)/past *100\n",
    "    #四半期の一つ分ずらしているため、ずらして要らなくなったデータ(nan)を除去\n",
    "    return growth_rate.dropna()"
   ]
  },
  {
   "cell_type": "code",
   "execution_count": null,
   "metadata": {},
   "outputs": [],
   "source": [
    "#売上成長率\n",
    "gp1_slide = slide(df_q[\"net_sales\"])\n",
    "gp1_slide "
   ]
  },
  {
   "cell_type": "code",
   "execution_count": 7,
   "metadata": {},
   "outputs": [],
   "source": [
    "#加重平均を求める関数\n",
    "def w_ave(x):\n",
    "    sum_wa = 0\n",
    "    count=0\n",
    "    \n",
    "    #シリーズ型のためvalueのみ取り出している\n",
    "    for quarter in x.values:\n",
    "        count += 1\n",
    "        #四半期ごとに重みをつける\n",
    "        weight = quarter * count\n",
    "        #重みをつけた上で年度ごとの数値を足し合わせる\n",
    "        sum_wa += weight \n",
    "        \n",
    "    #加重平均した値を算出\n",
    "    return sum_wa / ((1/2)*count*(count+1))"
   ]
  },
  {
   "cell_type": "code",
   "execution_count": null,
   "metadata": {},
   "outputs": [],
   "source": [
    "gp1_nsgr =w_ave(gp1_slide)\n",
    "#売上成長率\n",
    "gp1_nsgr"
   ]
  },
  {
   "cell_type": "code",
   "execution_count": null,
   "metadata": {},
   "outputs": [],
   "source": [
    "#営業利益成長率\n",
    "gp2_slide = slide(df_q[\"operating_income\"])\n",
    "gp2_slide\n",
    "\n",
    "gp2_oigr =w_ave(gp2_slide)\n",
    "#営業利益成長率\n",
    "gp2_oigr"
   ]
  },
  {
   "cell_type": "code",
   "execution_count": null,
   "metadata": {},
   "outputs": [],
   "source": [
    "#ROE\n",
    "pr1_roe = w_ave(df_q[\"roe\"])       \n",
    "#ROE\n",
    "pr1_roe "
   ]
  },
  {
   "cell_type": "code",
   "execution_count": null,
   "metadata": {},
   "outputs": [],
   "source": [
    "df_q[\"roe\"]"
   ]
  },
  {
   "cell_type": "code",
   "execution_count": null,
   "metadata": {},
   "outputs": [],
   "source": [
    "#売上高営業利益率\n",
    "pr2_om = w_ave(df_q[\"operating_margin\"])       \n",
    "#売上高営業利益率\n",
    "pr2_om"
   ]
  },
  {
   "cell_type": "code",
   "execution_count": null,
   "metadata": {},
   "outputs": [],
   "source": [
    "df_q[\"operating_margin\"]"
   ]
  },
  {
   "cell_type": "code",
   "execution_count": 28,
   "metadata": {},
   "outputs": [],
   "source": [
    "def w_ave(x):\n",
    "    sum_wa = 0\n",
    "    count=0\n",
    "    \n",
    "    #欠損値を削除\n",
    "    x_dropna = x.dropna()\n",
    "    \n",
    "    #シリーズ型のためvalueのみ取り出している\n",
    "    for quarter in x_dropna.values:\n",
    "        count += 1\n",
    "        weight = quarter * count\n",
    "        sum_wa += weight\n",
    "    \n",
    "    #加えて、もしデータが全て欠損値だった場合nanと返す\n",
    "    if sum_wa == 0 :\n",
    "        return nan\n",
    "    else:\n",
    "        return sum_wa / ((1/2)*count*(count+1))"
   ]
  },
  {
   "cell_type": "code",
   "execution_count": null,
   "metadata": {},
   "outputs": [],
   "source": [
    "pr2_om = w_ave(df_q[\"operating_margin\"])       \n",
    "#売上高営業利益率\n",
    "pr2_om"
   ]
  },
  {
   "cell_type": "code",
   "execution_count": null,
   "metadata": {},
   "outputs": [],
   "source": [
    "#1人当たり売上高\n",
    "lp1_nspe = w_ave(df_q[\"net_sales_per_employee\"])\n",
    "#1人当たり売上高\n",
    "lp1_nspe"
   ]
  },
  {
   "cell_type": "code",
   "execution_count": null,
   "metadata": {},
   "outputs": [],
   "source": [
    "#1人当たり営業CF\n",
    "lp2_oipe = w_ave(df_q[\"operating_income_per_employee\"])\n",
    "#1人当たり営業CF\n",
    "lp2_oipe"
   ]
  },
  {
   "cell_type": "code",
   "execution_count": null,
   "metadata": {},
   "outputs": [],
   "source": [
    "#総資産回転率\n",
    "e1_tat = w_ave(df_q[\"total_asset_turnover\"])\n",
    "#総資産回転率\n",
    "e1_tat"
   ]
  },
  {
   "cell_type": "code",
   "execution_count": null,
   "metadata": {},
   "outputs": [],
   "source": [
    "#CCC(キャッシュコンバージョンサイクル) = 売上債権回転期間 + 棚卸資産回転期間 – 支払債務回転期間\n",
    "e2_df = df_q[[\"accounts_receivable_turnover\",\"inventory_turnover\",\"trade_payable_turnover\"]]\n",
    "e2_ccc = w_ave(e2_df[\"trade_payable_turnover\"])+w_ave(e2_df[\"inventory_turnover\"])-w_ave(e2_df[\"accounts_receivable_turnover\"])\n",
    "#CCC(キャッシュコンバージョンサイクル) = 売上債権回転期間 + 棚卸資産回転期間 – 支払債務回転期間\n",
    "e2_ccc"
   ]
  },
  {
   "cell_type": "code",
   "execution_count": null,
   "metadata": {},
   "outputs": [],
   "source": [
    "#自己資本比率\n",
    "s1_er = w_ave(df_q[\"equity_ratio\"])\n",
    "#自己資本比率\n",
    "s1_er "
   ]
  },
  {
   "cell_type": "code",
   "execution_count": null,
   "metadata": {},
   "outputs": [],
   "source": [
    "#ネットD/Eレシオ = 純有利子負債 net_debt/ 自己資本 equity\n",
    "s2_df = df_q[[\"net_debt\",\"equity\"]]\n",
    "s2_nder = w_ave(s2_df[\"net_debt\"]/s2_df[\"equity\"])\n",
    "#ネットD/Eレシオ = 純有利子負債 net_debt/ 自己資本 equity\n",
    "s2_nder"
   ]
  },
  {
   "cell_type": "code",
   "execution_count": null,
   "metadata": {},
   "outputs": [],
   "source": [
    "#配当性向 Dividend payout ratio (%）＝ 1株あたり配当金 Dividends per share ÷1株あたり純利益（EPS）×100\n",
    "sr1_df = df_q[[\"dividend\",\"eps_actual\"]]\n",
    "sr1_dqr = w_ave(sr1_df[\"dividend\"] /sr1_df[\"eps_actual\"] * 100)\n",
    "#配当性向 Dividend payout ratio (%）＝ 1株あたり配当金 Dividends per share ÷1株あたり純利益（EPS）×100\n",
    "sr1_dqr"
   ]
  },
  {
   "cell_type": "code",
   "execution_count": null,
   "metadata": {},
   "outputs": [],
   "source": [
    "sr1_df"
   ]
  },
  {
   "cell_type": "code",
   "execution_count": null,
   "metadata": {},
   "outputs": [],
   "source": [
    "#株主資本配当率 DOE\n",
    "sr2_doe = w_ave(df_q[\"doe\"])\n",
    "#株主資本配当率 DOE\n",
    "sr2_doe"
   ]
  },
  {
   "cell_type": "code",
   "execution_count": null,
   "metadata": {},
   "outputs": [],
   "source": [
    "df_q[\"doe\"]"
   ]
  },
  {
   "cell_type": "code",
   "execution_count": null,
   "metadata": {},
   "outputs": [],
   "source": [
    "def dc_merge(daily,current):\n",
    "    if current[0] is None:\n",
    "        return daily\n",
    "    else : \n",
    "        dcm = pd.concat([daily,current],axis = 0)\n",
    "        return dcm\n",
    "\n",
    "\n",
    "df_cg = df_day[[\"market_capital\",\"num_of_shares\"]]\n",
    "cg_d = df_cg[\"market_capital\"]/df_cg[\"num_of_shares\"]\n",
    "cg_c = df_c[\"stockprice\"]\n",
    "cg_merge = dc_merge(cg_d,cg_c)\n",
    "cg_before = cg_merge\n",
    "cg_after = cg_merge.shift(-1)\n",
    "#slide関数では100倍するため注意\n",
    "cg_ab = (cg_after - cg_before)/cg_before\n",
    "cg = w_ave(cg_ab)\n",
    "cg "
   ]
  }
 ],
 "metadata": {
  "kernelspec": {
   "display_name": "Python 3",
   "language": "python",
   "name": "python3"
  },
  "language_info": {
   "codemirror_mode": {
    "name": "ipython",
    "version": 3
   },
   "file_extension": ".py",
   "mimetype": "text/x-python",
   "name": "python",
   "nbconvert_exporter": "python",
   "pygments_lexer": "ipython3",
   "version": "3.7.6"
  }
 },
 "nbformat": 4,
 "nbformat_minor": 4
}
