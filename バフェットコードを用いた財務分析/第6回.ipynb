{
 "cells": [
  {
   "cell_type": "markdown",
   "metadata": {},
   "source": [
    "<h4>Pythonによる財務分析の方法として全企業の総合力の順位順位を求めよう！<h4>"
   ]
  },
  {
   "cell_type": "code",
   "execution_count": null,
   "metadata": {},
   "outputs": [],
   "source": [
    "import pandas as pd\n",
    "import matplotlib as plot\n",
    "\n",
    "processed_data = pd.read_csv(\"ProcessedData.csv\")\n",
    "processed_data.columns\n",
    "\n",
    "memory = processed_data.copy()\n",
    "processed_data"
   ]
  },
  {
   "cell_type": "code",
   "execution_count": 43,
   "metadata": {},
   "outputs": [],
   "source": [
    "def total_power_survey(processed_data):  \n",
    "    \n",
    "    #成長性\n",
    "    processed_data[\"sales_growth_rate\"] = processed_data[\"sales_growth_rate\"].rank(ascending=True)  #＋\n",
    "    processed_data[\"operating_income_growth_rate\"] = processed_data[\"operating_income_growth_rate\"].rank(ascending=True)    #＋\n",
    "    #収益性\n",
    "    processed_data[\"roe\"] = processed_data[\"roe\"].rank(ascending=True)  #＋\n",
    "    processed_data[\"operating_margin\"] = processed_data[\"operating_margin\"].rank(ascending=True)    #＋\n",
    "    #労働生産性\n",
    "    processed_data[\"net_sales_per_employee\"] = processed_data[\"net_sales_per_employee\"].rank(ascending=True)  #＋\n",
    "    processed_data[\"operating_income_per_employee\"] = processed_data[\"operating_income_per_employee\"].rank(ascending=True)    #＋\n",
    "    #効率性\n",
    "    processed_data[\"total_assets_turnover\"] = processed_data[\"total_assets_turnover\"].rank(ascending=True)  #＋\n",
    "    processed_data[\"ccc\"] = processed_data[\"ccc\"].rank(ascending=False) # -\n",
    "    #安全性\n",
    "    processed_data[\"equity_ratio\"] = processed_data[\"equity_ratio\"].rank(ascending=True)  #＋\n",
    "    processed_data[\"net_d/e_ratio\"] = processed_data[\"net_d/e_ratio\"].rank(ascending=True)    #＋\n",
    "    #株主還元性\n",
    "    processed_data[\"dividend_payout_ratio\"] = processed_data[\"dividend_payout_ratio\"].rank(ascending=True)  #＋\n",
    "    processed_data[\"doe\"] = processed_data[\"doe\"].rank(ascending=True)    #＋\n",
    "       \n",
    "    return processed_data"
   ]
  },
  {
   "cell_type": "code",
   "execution_count": null,
   "metadata": {},
   "outputs": [],
   "source": [
    "#スコアリングされたデータが読み込まれる\n",
    "data_rank = total_power_survey(processed_data)\n",
    "#順位付けした各指標をまとめ、最終的100点満点換算にする。そのさい、計算に関係ないデータを弾く\n",
    "data_point = data_rank.drop([\"company\",\"code\",\"capital_gain\"],axis = 1)\n",
    "#100点満点でポイントを算出\n",
    "data_rank[\"point\"] = data_point.sum(axis=1)/len(data_point.columns)/len(data_point)*100 \n",
    "#ポイントが高い順にランキングを作成\n",
    "data_rank[\"RANKING\"] = data_rank[\"point\"].rank(ascending=False)  \n",
    "#ポイントが高い順にソート\n",
    "result = data_rank.sort_values(by=[\"point\"], ascending=False)                               \n",
    "result"
   ]
  },
  {
   "cell_type": "code",
   "execution_count": null,
   "metadata": {},
   "outputs": [],
   "source": [
    "#全体のＴＯＰ3の会社と最下位を出力\n",
    "top3_out = result.iloc[[0,1,2,-1],[0,1,len(result.columns)-2,len(result.columns)-1]]\n",
    "#インデックスの部分をランキングに張り替える\n",
    "top3_out.set_index(\"RANKING\",inplace=True)\n",
    "top3_out"
   ]
  },
  {
   "cell_type": "code",
   "execution_count": null,
   "metadata": {},
   "outputs": [],
   "source": [
    "#ヒストグラムで分析する\n",
    "result[\"point\"].hist()"
   ]
  },
  {
   "cell_type": "markdown",
   "metadata": {},
   "source": [
    "<h4>Pythonによる財務分析の方法として業種ごとでの総合力の順位順位を求めよう！<h4>"
   ]
  },
  {
   "cell_type": "code",
   "execution_count": 47,
   "metadata": {
    "scrolled": true
   },
   "outputs": [],
   "source": [
    "industry =  [\n",
    "             \"水産・農林業\",\n",
    "             \"鉱業\",\n",
    "             \"建設業\",\n",
    "             \"食料品\",\n",
    "             \"繊維製品\",\n",
    "            \"パルプ・紙\",\n",
    "            \"化学\",\n",
    "            \"医薬品\",\n",
    "            \"石油・石炭製品\",\n",
    "            \"ゴム製品\",\n",
    "            \"ガラス・土石製品\",\n",
    "            \"鉄鋼\",\n",
    "            \"非鉄金属\",\n",
    "            \"金属製品\",\n",
    "            \"機械\",\n",
    "            \"電気機器\",\n",
    "            \"輸送用機器\",\n",
    "            \"精密機器\",\n",
    "            \"その他製品\",\n",
    "            \"電気・ガス業\",\n",
    "            \"陸運業\",\n",
    "            \"海運業\",\n",
    "            \"空運業\",\n",
    "            \"倉庫・運輸関連業\",\n",
    "            \"卸売業\",\n",
    "            \"小売業\",\n",
    "            \"銀行業\",\n",
    "            \"証券、商品先物取引業\",\n",
    "            \"保険業\",\n",
    "            \"その他金融業\",\n",
    "            \"不動産業\",\n",
    "            \"サービス業\",\n",
    "            \"情報・通信業\",\n",
    "            \"REIT\"\n",
    "            ]\n",
    "industry_dict={}\n",
    "for i in industry :\n",
    "    with open(f\"ticker_list/{i}.txt\" ,mode = \"r\") as f:\n",
    "            file = f.read()\n",
    "    ticker_list_three = file.split(\"\\n\")\n",
    "    \n",
    "    industry_list = []\n",
    "    for code in ticker_list_three :\n",
    "        ticker_num = code.split(\",\")\n",
    "        for count in ticker_num :\n",
    "            industry_list.append(count)\n",
    "    \n",
    "    ind_d = {i:len(industry_list)}\n",
    "    industry_dict.update(ind_d)"
   ]
  },
  {
   "cell_type": "code",
   "execution_count": null,
   "metadata": {},
   "outputs": [],
   "source": [
    "scr_dict = {}\n",
    "scr = int(input()) * 10\n",
    "for idk,idv in industry_dict.items():    \n",
    "    if int(scr) <= idv :\n",
    "        if_dict = {idk:idv}\n",
    "        scr_dict.update(if_dict)\n",
    "        \n",
    "scr_dict"
   ]
  },
  {
   "cell_type": "code",
   "execution_count": null,
   "metadata": {},
   "outputs": [],
   "source": [
    "name =input()\n",
    "\n",
    "\n",
    "with open(f\"ticker_list/{name}.txt\" ,mode = \"r\") as f:\n",
    "            file = f.read()\n",
    "ticker_list_three = file.split(\"\\n\")\n",
    "    \n",
    "industry_list = []\n",
    "for code in ticker_list_three :\n",
    "    ticker_num = code.split(\",\")\n",
    "    for count in ticker_num :\n",
    "        industry_list.append(count)\n",
    "\n",
    "scr_industry = pd.DataFrame()\n",
    "for i in  industry_list:\n",
    "    #銘柄コードが\" \"の文字列を特定し、エラーを出さないために弾く\n",
    "    if i.isdecimal() :\n",
    "        i_int =int(i) \n",
    "        #memoryをもちいて銘柄コードを抽出する(参照渡しの回避)\n",
    "        code_data = memory[memory[\"code\"] == i_int ]\n",
    "        scr_industry = pd.concat([scr_industry,code_data])\n",
    "\n",
    "\n",
    "scr_industry"
   ]
  },
  {
   "cell_type": "code",
   "execution_count": null,
   "metadata": {},
   "outputs": [],
   "source": [
    "data_rank = total_power_survey(scr_industry)\n",
    "data_point = data_rank.drop([\"company\",\"code\",\"capital_gain\"],axis = 1)\n",
    "\n",
    "data_rank[\"point\"] = data_point.sum(axis=1)/len(data_point.columns)/len(data_point)*100 \n",
    "\n",
    "data_rank[\"RANKING\"] = data_rank[\"point\"].rank(ascending=False)  \n",
    "\n",
    "result = data_rank.sort_values(by=[\"point\"], ascending=False)                               \n",
    "result"
   ]
  },
  {
   "cell_type": "code",
   "execution_count": null,
   "metadata": {},
   "outputs": [],
   "source": [
    "top3_out = result.iloc[[0,1,2,-1],[0,1,len(result.columns)-2,len(result.columns)-1]]\n",
    "\n",
    "top3_out.set_index(\"RANKING\",inplace=True)\n",
    "top3_out"
   ]
  },
  {
   "cell_type": "code",
   "execution_count": null,
   "metadata": {},
   "outputs": [],
   "source": [
    "#4ヒストグラムで分析する\n",
    "result[\"point\"].hist()"
   ]
  }
 ],
 "metadata": {
  "kernelspec": {
   "display_name": "Python 3",
   "language": "python",
   "name": "python3"
  },
  "language_info": {
   "codemirror_mode": {
    "name": "ipython",
    "version": 3
   },
   "file_extension": ".py",
   "mimetype": "text/x-python",
   "name": "python",
   "nbconvert_exporter": "python",
   "pygments_lexer": "ipython3",
   "version": "3.7.6"
  }
 },
 "nbformat": 4,
 "nbformat_minor": 4
}
