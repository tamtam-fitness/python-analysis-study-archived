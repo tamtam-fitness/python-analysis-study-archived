{
 "cells": [
  {
   "cell_type": "markdown",
   "metadata": {},
   "source": [
    "<h2>業種別で重回帰分析をおこないリターンの予測をしよう！</h3>"
   ]
  },
  {
   "cell_type": "code",
   "execution_count": 1,
   "metadata": {},
   "outputs": [],
   "source": [
    "# 今回使うライブラリ\n",
    "import pandas as pd\n",
    "import numpy  as np\n",
    "from numpy import nan # 欠損値\n",
    "from sklearn import linear_model #機械学習ライブラリより線形モデルを取得\n",
    "import statsmodels.api as smf # 統計量計算\n",
    "import matplotlib.pyplot as plt # 描画ライブラリ\n",
    "import seaborn as sns # 描画ライブラリ"
   ]
  },
  {
   "cell_type": "markdown",
   "metadata": {},
   "source": [
    "<h3 id = \"データを読み込む\">データを読み込む</h3>"
   ]
  },
  {
   "cell_type": "code",
   "execution_count": null,
   "metadata": {},
   "outputs": [],
   "source": [
    "processed_data = pd.read_csv(\"ProcessedData.csv\")\n",
    "processed_data"
   ]
  },
  {
   "cell_type": "markdown",
   "metadata": {},
   "source": [
    "<h3 id = \"業種別でデータを取得する\">業種別でデータを取得する</h3>"
   ]
  },
  {
   "cell_type": "code",
   "execution_count": null,
   "metadata": {},
   "outputs": [],
   "source": [
    "# 【120以上の業種】\n",
    "# '建設業': 158\n",
    "#  '食料品': 122\n",
    "#  '化学': 210\n",
    "#  '機械': 228\n",
    "#  '電気機器': 243\n",
    "#  '卸売業': 317\n",
    "#  '小売業': 348\n",
    "#  '不動産業': 132\n",
    "#  'サービス業': 470\n",
    "#  '情報・通信業': 462"
   ]
  },
  {
   "cell_type": "code",
   "execution_count": null,
   "metadata": {},
   "outputs": [],
   "source": [
    "name =input()\n",
    "\n",
    "\n",
    "with open(f\"ticker_list/{name}.txt\" ,mode = \"r\") as f:\n",
    "            file = f.read()\n",
    "ticker_list_three = file.split(\"\\n\")\n",
    "    \n",
    "industry_list = []\n",
    "for code in ticker_list_three :\n",
    "    ticker_num = code.split(\",\")\n",
    "    for count in ticker_num :\n",
    "        industry_list.append(count)\n",
    "\n",
    "        \n",
    "scr_industry = pd.DataFrame()\n",
    "for i in  industry_list:\n",
    "    #銘柄コードが\" \"の文字列を特定し、エラーを出さないために弾く\n",
    "    if i.isdecimal() :\n",
    "        i_int =int(i) \n",
    "        #memoryをもちいて銘柄コードを抽出する(参照渡しの回避)\n",
    "        code_data = processed_data[processed_data[\"code\"] == i_int ]\n",
    "        scr_industry = pd.concat([scr_industry,code_data])\n",
    "\n",
    "\n",
    "scr_industry"
   ]
  },
  {
   "cell_type": "markdown",
   "metadata": {},
   "source": [
    "<h3 id = \"統計量を確認する\">統計量を確認する</h3>"
   ]
  },
  {
   "cell_type": "code",
   "execution_count": null,
   "metadata": {},
   "outputs": [],
   "source": [
    "clf = linear_model.LinearRegression()\n",
    "\n",
    "# データフレームで分析に使わないcolumnsを除去               \n",
    "use_data = scr_industry.drop([\"code\",\"company\"], axis = 1)\n",
    "\n",
    "#  データフレームの各列を正規化                                                               全ての列がnanのものを除去\n",
    "use_data_new = use_data.apply(lambda x: (x - np.mean(x)) / (np.max(x) - np.min(x))).dropna(how='all', axis=1)\n",
    "\n",
    "\n",
    "#説明変数を作成           #目的変数を除去\n",
    "use_data_new_except_criterion = use_data_new.drop(use_data_new.iloc[:,[-1]], axis = 1)\n",
    "X = use_data_new_except_criterion.values \n",
    "                             \n",
    "#目的変数を作成 \n",
    "Y = use_data_new.iloc[:,-1].values\n",
    "                                                  \n",
    "\n",
    "#統計量を作成\n",
    "model = smf.OLS(Y,X) \n",
    "result = model.fit()\n",
    "result.summary()  "
   ]
  },
  {
   "cell_type": "markdown",
   "metadata": {},
   "source": [
    "<h2>データ処理をおこない再度統計量を確認しよう！</h2>\n",
    "<h3>P値の結果によるデータ処理をおこない再度統計量を確認する</h3>"
   ]
  },
  {
   "cell_type": "code",
   "execution_count": null,
   "metadata": {},
   "outputs": [],
   "source": [
    "# 予測モデルを作成\n",
    "clf.fit(X, Y)\n",
    "\n",
    "# 偏回帰係数\n",
    "print(pd.DataFrame({\"Name\":use_data_new_except_criterion.columns,\n",
    "                    \"Coefficients\":np.abs(clf.coef_)}))\n",
    "\n",
    "# 切片 (誤差)\n",
    "print(clf.intercept_)   "
   ]
  },
  {
   "cell_type": "code",
   "execution_count": null,
   "metadata": {},
   "outputs": [],
   "source": [
    "use_data_re = use_data_new[[\n",
    "                           \"net_d/e_ratio\",\n",
    "                           \"doe\"  \n",
    "                           ]]\n",
    "X = use_data_re.values\n",
    "#Yは目的変数のため変更しない\n",
    "\n",
    "#再度統計量を出す\n",
    "model = smf.OLS(Y,X) \n",
    "result = model.fit()\n",
    "result.summary()"
   ]
  },
  {
   "cell_type": "markdown",
   "metadata": {},
   "source": [
    "<h3>多重共線性によるデータ処理をおこない再度統計量を確認する</h3>"
   ]
  },
  {
   "cell_type": "code",
   "execution_count": null,
   "metadata": {},
   "outputs": [],
   "source": [
    "clf.fit(X, Y)\n",
    "colormap = plt.cm.RdBu\n",
    "# フォントの設定\n",
    "plt.rcParams['font.family'] = 'Yu Mincho'\n",
    "# 描画サイズの設定\n",
    "plt.figure(figsize=(14,12))\n",
    "# タイトル\n",
    "plt.title('証券データの相関行列', y=1.05, size=15)\n",
    "# ヒートマップの描画\n",
    "sns.heatmap(use_data_re.astype(float).corr(),linewidths=0.1,vmax=1.0, \n",
    "         square=True, cmap=colormap, linecolor='white', annot=True)"
   ]
  },
  {
   "cell_type": "code",
   "execution_count": null,
   "metadata": {},
   "outputs": [],
   "source": [
    "use_data_re = use_data_new[[\n",
    "                           \"net_d/e_ratio\",\n",
    "                           \"doe\"  \n",
    "                           ]]\n",
    "X = use_data_re.values\n",
    "#Yは目的変数のため変更しない\n",
    "\n",
    "#再度統計量を出す\n",
    "model = smf.OLS(Y,X) \n",
    "result = model.fit()\n",
    "result.summary()"
   ]
  },
  {
   "cell_type": "markdown",
   "metadata": {},
   "source": [
    "<h2>予測値をもとに企業をスクリーニングしよう！</h2>\n",
    "<h3>全ての企業の予測値を求める</h3>"
   ]
  },
  {
   "cell_type": "code",
   "execution_count": null,
   "metadata": {},
   "outputs": [],
   "source": [
    "#説明変数の実測値\n",
    "measured_valueE = pd.DataFrame()\n",
    "for i in use_data_re.iloc[0,:].index :\n",
    "    data_merge = processed_data[[i]]\n",
    "    measured_valueE = pd.concat([measured_valueE,data_merge],axis=1)\n",
    "\n",
    "#係数の計算\n",
    "clf.fit(X, Y)\n",
    "\n",
    "#説明変数の予測値の係数\n",
    "predicted_valueE = pd.DataFrame({\"Name\": use_data_re.columns,\"Coefficients\": clf.coef_ })\n",
    "\n",
    "#説明変数の予測値の切片\n",
    "predicted_valueI = clf.intercept_ \n",
    "\n",
    "############################################################\n",
    "\n",
    "#実測値と予測値の係数の掛け算をおこない予測値を出す\n",
    "E = list(map(lambda x: sum(x *  predicted_valueE.iloc[:,1].values) + predicted_valueI ,measured_valueE.values))\n",
    "E"
   ]
  },
  {
   "cell_type": "markdown",
   "metadata": {},
   "source": [
    "<h3>予測値をもとに企業をスクリーニングして出力する</h3>"
   ]
  },
  {
   "cell_type": "code",
   "execution_count": null,
   "metadata": {},
   "outputs": [],
   "source": [
    "#回帰式の予測値より現実のデータが低くなっている上位10％のインデックスと、その乖離度を出す。\n",
    "from copy import deepcopy as cp\n",
    "\n",
    "Y= processed_data.iloc[:,-1].values\n",
    "\n",
    "\n",
    "scr_list = []\n",
    "\n",
    "for i in range(len(E)):\n",
    "    #予測値が実測値より大きいか判定 \n",
    "    if E[i] >= Y[i]:\n",
    "        scr_list.append([i,E[i] - Y[i]])\n",
    "\n",
    "can_add = True\n",
    "while can_add :\n",
    "    f = 0\n",
    "    for i in range(len(scr_list) - 1):\n",
    "        if scr_list [i][1] < scr_list[i + 1][1]:\n",
    "            save = cp(scr_list[i])\n",
    "            scr_list[i] = cp(scr_list[i + 1])\n",
    "            scr_list[i + 1] = cp(save)\n",
    "            f = 1\n",
    "    if f == 0 :\n",
    "        can_add = False\n",
    "        \n",
    "        \n",
    "\n",
    "#乖離度上位10％を抽出 \n",
    "sampling = scr_list[:round(len(scr_list)*0.1)]\n",
    "if len(sampling) == 0:\n",
    "     print(\"期待利益を見込める企業が見つかりませんでした\")\n",
    "    \n",
    "\n",
    "else:\n",
    "    out_put = pd.DataFrame()\n",
    "\n",
    "    times = 0\n",
    "    for i in [sampling[rank][0] for rank in range(len(sampling))]:\n",
    "        times +=1\n",
    "        relay = processed_data.iloc[[i]]\n",
    "        relay[\"expect_rate\"] = E[i]\n",
    "        out_put = pd.concat([out_put,relay])\n",
    "        if times == 5:\n",
    "            break\n",
    "            \n",
    "    #上位10％からtop有望銘柄を最大5つ出力  \n",
    "    top_company = out_put.iloc[:,[0,1,-2,-1]]\n",
    "\n",
    "top_company"
   ]
  }
 ],
 "metadata": {
  "kernelspec": {
   "display_name": "Python 3",
   "language": "python",
   "name": "python3"
  },
  "language_info": {
   "codemirror_mode": {
    "name": "ipython",
    "version": 3
   },
   "file_extension": ".py",
   "mimetype": "text/x-python",
   "name": "python",
   "nbconvert_exporter": "python",
   "pygments_lexer": "ipython3",
   "version": "3.7.6"
  }
 },
 "nbformat": 4,
 "nbformat_minor": 4
}
