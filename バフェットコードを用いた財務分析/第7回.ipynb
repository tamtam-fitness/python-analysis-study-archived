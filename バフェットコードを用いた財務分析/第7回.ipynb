{
 "cells": [
  {
   "cell_type": "code",
   "execution_count": null,
   "metadata": {},
   "outputs": [],
   "source": [
    "import pandas as pd\n",
    "processed_data = pd.read_csv(\"ProcessedData.csv\")\n",
    "processed_data.columns"
   ]
  },
  {
   "cell_type": "code",
   "execution_count": null,
   "metadata": {},
   "outputs": [],
   "source": [
    "#単回帰分析のデータの選定\n",
    "processed_data[[\"roe\",\"capital_gain\"]]"
   ]
  },
  {
   "cell_type": "code",
   "execution_count": null,
   "metadata": {},
   "outputs": [],
   "source": [
    "import matplotlib as plot\n",
    "%matplotlib inline\n",
    "\n",
    "import matplotlib.pyplot as plt\n",
    "#まず、フォントの設定\n",
    "plt.rcParams[\"font.family\"] = \"Yu Mincho\"\n",
    "\n",
    "#x,y軸の値を設定\n",
    "x = processed_data[\"roe\"]\n",
    "y = processed_data[\"capital_gain\"]\n",
    "#背景色\n",
    "fig = plt.figure(facecolor=\"white\")\n",
    "\n",
    "#描画サイズ設定\n",
    "ax = fig.add_subplot(1,1,1)\n",
    "#ラベル設定\n",
    "ax.set_xlabel(\"roe\",fontsize=15)\n",
    "ax.set_ylabel(\"capital_gain\",fontsize=15)\n",
    "ax.plot(x,y,\"o\")\n",
    "plt.show()"
   ]
  },
  {
   "cell_type": "code",
   "execution_count": null,
   "metadata": {},
   "outputs": [],
   "source": [
    "from sklearn import linear_model # 線形モデル関係\n",
    "import statsmodels.api as smf # 統計量計算\n",
    "\n",
    "Y =processed_data[\"capital_gain\"]\n",
    "X =processed_data[\"roe\"]\n",
    "\n",
    "#単回帰分析モデルの作成\n",
    "model = smf.OLS(Y,X) \n",
    "result = model.fit()\n",
    "result.summary()"
   ]
  },
  {
   "cell_type": "code",
   "execution_count": null,
   "metadata": {},
   "outputs": [],
   "source": [
    "from sklearn import linear_model\n",
    "clf = linear_model.LinearRegression()\n",
    "\n",
    "X = processed_data[[\"roe\"]]\n",
    "\n",
    "Y = processed_data[[\"capital_gain\"]]\n",
    "\n",
    "clf.fit(X,Y)\n",
    "\n",
    "print(f\"傾き : {clf.coef_[0][0]}\")\n",
    "\n",
    "print(f\"切片 : {clf.intercept_[0]}\")\n",
    "\n",
    "#回帰式\n",
    "print(f\"回帰式 : y = {clf.intercept_[0]} + {clf.coef_[0][0]}x\")"
   ]
  }
 ],
 "metadata": {
  "kernelspec": {
   "display_name": "Python 3",
   "language": "python",
   "name": "python3"
  },
  "language_info": {
   "codemirror_mode": {
    "name": "ipython",
    "version": 3
   },
   "file_extension": ".py",
   "mimetype": "text/x-python",
   "name": "python",
   "nbconvert_exporter": "python",
   "pygments_lexer": "ipython3",
   "version": "3.7.6"
  }
 },
 "nbformat": 4,
 "nbformat_minor": 4
}
