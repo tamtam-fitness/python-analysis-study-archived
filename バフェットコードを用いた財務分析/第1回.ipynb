{
 "cells": [
  {
   "cell_type": "code",
   "execution_count": null,
   "metadata": {},
   "outputs": [],
   "source": [
    "import  pandas as pd\n",
    "financial_data = pd.read_csv(\"financial_4751.csv\", encoding=\"SHIFT-JIS\")\n",
    "financial_data"
   ]
  },
  {
   "cell_type": "code",
   "execution_count": null,
   "metadata": {},
   "outputs": [],
   "source": [
    "net_assets = financial_data[\"純資産\"]\n",
    "net_assets_shift = net_assets.shift(-1)\n",
    "growth_rate = (net_assets- net_assets_shift)/net_assets_shift *100\n",
    "gr_dropna = growth_rate.dropna() \n",
    "gr_dropna"
   ]
  },
  {
   "cell_type": "code",
   "execution_count": null,
   "metadata": {},
   "outputs": [],
   "source": [
    "import numpy as np\n",
    "import matplotlib.pyplot as plt\n",
    "\n",
    "#0行目が最新年度のため逆順に記載\n",
    "left = np.array([6,5,4,3,2,1])\n",
    "plt.plot(left, gr_dropna)"
   ]
  },
  {
   "cell_type": "code",
   "execution_count": null,
   "metadata": {},
   "outputs": [],
   "source": [
    "sum_wa = 0\n",
    "count=0\n",
    "\n",
    "#データ群をリバースさせforで回す\n",
    "for year in reversed(gr_dropna):\n",
    "    count += 1\n",
    "    #年度ごとに重みをつける\n",
    "    weight = year * count\n",
    "    #重みをつけた上で年度ごとの数値を足し合わせる\n",
    "    sum_wa += weight \n",
    "\n",
    "    \n",
    "#加重平均した値を算出\n",
    "result = sum_wa / ((1/2)*count*(count+1))\n",
    "result"
   ]
  },
  {
   "cell_type": "code",
   "execution_count": null,
   "metadata": {},
   "outputs": [],
   "source": [
    "#売上高と株価を抽出\n",
    "correlation = financial_data[[\"売上高\",\"株価\"]]\n",
    "correlation.corr()"
   ]
  },
  {
   "cell_type": "code",
   "execution_count": null,
   "metadata": {},
   "outputs": [],
   "source": [
    "import numpy as np\n",
    "import matplotlib.pyplot as plt\n",
    " \n",
    "# シリーズ型でｘとｙを作成\n",
    "x = financial_data[\"売上高\"]\n",
    "y = financial_data[\"株価\"]\n",
    " \n",
    "# 散布図を描画\n",
    "plt.scatter(x, y)"
   ]
  }
 ],
 "metadata": {
  "kernelspec": {
   "display_name": "Python 3",
   "language": "python",
   "name": "python3"
  },
  "language_info": {
   "codemirror_mode": {
    "name": "ipython",
    "version": 3
   },
   "file_extension": ".py",
   "mimetype": "text/x-python",
   "name": "python",
   "nbconvert_exporter": "python",
   "pygments_lexer": "ipython3",
   "version": "3.7.6"
  }
 },
 "nbformat": 4,
 "nbformat_minor": 4
}
