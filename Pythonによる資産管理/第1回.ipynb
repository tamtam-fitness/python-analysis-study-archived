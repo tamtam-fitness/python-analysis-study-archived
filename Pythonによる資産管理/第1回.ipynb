{
 "cells": [
  {
   "cell_type": "markdown",
   "metadata": {},
   "source": [
    "<h1 style=\"color:green;\">ポートフォリオ理論 第1回</h1>"
   ]
  },
  {
   "cell_type": "code",
   "execution_count": 3,
   "metadata": {},
   "outputs": [
    {
     "data": {
      "text/html": [
       "<div>\n",
       "<style scoped>\n",
       "    .dataframe tbody tr th:only-of-type {\n",
       "        vertical-align: middle;\n",
       "    }\n",
       "\n",
       "    .dataframe tbody tr th {\n",
       "        vertical-align: top;\n",
       "    }\n",
       "\n",
       "    .dataframe thead th {\n",
       "        text-align: right;\n",
       "    }\n",
       "</style>\n",
       "<table border=\"1\" class=\"dataframe\">\n",
       "  <thead>\n",
       "    <tr style=\"text-align: right;\">\n",
       "      <th></th>\n",
       "      <th>好景気</th>\n",
       "      <th>不景気</th>\n",
       "    </tr>\n",
       "  </thead>\n",
       "  <tbody>\n",
       "    <tr>\n",
       "      <th>確率</th>\n",
       "      <td>0.5</td>\n",
       "      <td>0.5</td>\n",
       "    </tr>\n",
       "    <tr>\n",
       "      <th>証券1の予想株式投資収益率</th>\n",
       "      <td>6.0</td>\n",
       "      <td>-2.0</td>\n",
       "    </tr>\n",
       "    <tr>\n",
       "      <th>証券2の予想株式投資収益率</th>\n",
       "      <td>-4.0</td>\n",
       "      <td>12.0</td>\n",
       "    </tr>\n",
       "  </tbody>\n",
       "</table>\n",
       "</div>"
      ],
      "text/plain": [
       "               好景気   不景気\n",
       "確率             0.5   0.5\n",
       "証券1の予想株式投資収益率  6.0  -2.0\n",
       "証券2の予想株式投資収益率 -4.0  12.0"
      ]
     },
     "execution_count": 3,
     "metadata": {},
     "output_type": "execute_result"
    }
   ],
   "source": [
    "import pandas as pd \n",
    "\n",
    "financial_table = pd.DataFrame({'好景気': [0.5 ,6, -4],\n",
    "                                '不景気': [0.5 ,-2, 12]\n",
    "                                },\n",
    "                index=['確率', '証券1の予想株式投資収益率','証券2の予想株式投資収益率'])\n",
    "\n",
    "financial_table"
   ]
  },
  {
   "cell_type": "markdown",
   "metadata": {},
   "source": [
    "<h2>リターンを求める</h2>"
   ]
  },
  {
   "cell_type": "code",
   "execution_count": 4,
   "metadata": {},
   "outputs": [
    {
     "name": "stdout",
     "output_type": "stream",
     "text": [
      "株式1のリターン：2.0％\n"
     ]
    }
   ],
   "source": [
    "#証券1のリターン\n",
    "stock1_return = ( financial_table.loc['確率','好景気']   \n",
    "                * financial_table.loc['証券1の予想株式投資収益率','好景気'] \n",
    "                + financial_table.loc['確率','不景気']  \n",
    "                * financial_table.loc['証券1の予想株式投資収益率','不景気'] \n",
    "                )\n",
    "print(f\"株式1のリターン：{stock1_return}％\")"
   ]
  },
  {
   "cell_type": "code",
   "execution_count": 5,
   "metadata": {},
   "outputs": [
    {
     "name": "stdout",
     "output_type": "stream",
     "text": [
      "株式2のリターン：4.0％\n"
     ]
    }
   ],
   "source": [
    "#証券2の期待リターン\n",
    "stock2_return = ( financial_table.loc['確率','好景気']  \n",
    "                * financial_table.loc['証券2の予想株式投資収益率','好景気'] \n",
    "                + financial_table.loc['確率','不景気'] \n",
    "                * financial_table.loc['証券2の予想株式投資収益率','不景気'] \n",
    "                )\n",
    "print(f\"株式2のリターン：{stock2_return}％\")"
   ]
  },
  {
   "cell_type": "markdown",
   "metadata": {},
   "source": [
    "<h2>リスクを求める</h2>"
   ]
  },
  {
   "cell_type": "code",
   "execution_count": 10,
   "metadata": {},
   "outputs": [
    {
     "name": "stdout",
     "output_type": "stream",
     "text": [
      "株式2のリスク（分散）：16.0％^2\n",
      "株式2のリスク（標準偏差）：4.0％\n"
     ]
    }
   ],
   "source": [
    "import math\n",
    "\n",
    "#証券1のリスク\n",
    "stock1_risk_var =(  financial_table.loc['確率','好景気']  \n",
    "                  * (financial_table.loc['証券1の予想株式投資収益率','好景気'] - stock1_return)**2\n",
    "                  +  financial_table.loc['確率','不景気']  \n",
    "                  * (financial_table.loc['証券1の予想株式投資収益率','不景気'] - stock1_return)**2\n",
    "                  )\n",
    "\n",
    "stock1_risk_stv = math.sqrt(stock1_risk_var)\n",
    "\n",
    "print(f\"株式2のリスク（分散）：{stock1_risk_var}％^2\")\n",
    "print(f\"株式2のリスク（標準偏差）：{stock1_risk_stv}％\")"
   ]
  },
  {
   "cell_type": "code",
   "execution_count": 12,
   "metadata": {},
   "outputs": [
    {
     "name": "stdout",
     "output_type": "stream",
     "text": [
      "株式2のリスク（分散）：64.0％^2\n",
      "株式2のリスク（標準偏差）：8.0％\n"
     ]
    }
   ],
   "source": [
    "import math\n",
    "\n",
    "#証券2のリスク\n",
    "stock2_risk_var =(  financial_table.loc['確率','好景気']  \n",
    "                  * (financial_table.loc['証券2の予想株式投資収益率','好景気'] - stock2_return)**2\n",
    "                  +  financial_table.loc['確率','不景気']  \n",
    "                  * (financial_table.loc['証券2の予想株式投資収益率','不景気'] - stock2_return)**2\n",
    "                  )\n",
    "\n",
    "stock2_risk_stv = math.sqrt(stock2_risk_var)\n",
    "\n",
    "print(f\"株式2のリスク（分散）：{stock2_risk_var}％^2\")\n",
    "print(f\"株式2のリスク（標準偏差）：{stock2_risk_stv}％\")"
   ]
  },
  {
   "cell_type": "code",
   "execution_count": null,
   "metadata": {},
   "outputs": [],
   "source": []
  }
 ],
 "metadata": {
  "kernelspec": {
   "display_name": "Python 3",
   "language": "python",
   "name": "python3"
  },
  "language_info": {
   "codemirror_mode": {
    "name": "ipython",
    "version": 3
   },
   "file_extension": ".py",
   "mimetype": "text/x-python",
   "name": "python",
   "nbconvert_exporter": "python",
   "pygments_lexer": "ipython3",
   "version": "3.7.6"
  }
 },
 "nbformat": 4,
 "nbformat_minor": 4
}
