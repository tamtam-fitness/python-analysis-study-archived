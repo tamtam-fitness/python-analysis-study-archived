{
 "cells": [
  {
   "cell_type": "markdown",
   "metadata": {},
   "source": [
    "<h1 style=\"color:green;\">ポートフォリオ理論 第2回</h1>"
   ]
  },
  {
   "cell_type": "code",
   "execution_count": 7,
   "metadata": {},
   "outputs": [
    {
     "data": {
      "text/html": [
       "<div>\n",
       "<style scoped>\n",
       "    .dataframe tbody tr th:only-of-type {\n",
       "        vertical-align: middle;\n",
       "    }\n",
       "\n",
       "    .dataframe tbody tr th {\n",
       "        vertical-align: top;\n",
       "    }\n",
       "\n",
       "    .dataframe thead th {\n",
       "        text-align: right;\n",
       "    }\n",
       "</style>\n",
       "<table border=\"1\" class=\"dataframe\">\n",
       "  <thead>\n",
       "    <tr style=\"text-align: right;\">\n",
       "      <th></th>\n",
       "      <th>好景気</th>\n",
       "      <th>不景気</th>\n",
       "    </tr>\n",
       "  </thead>\n",
       "  <tbody>\n",
       "    <tr>\n",
       "      <th>確率</th>\n",
       "      <td>0.5</td>\n",
       "      <td>0.5</td>\n",
       "    </tr>\n",
       "    <tr>\n",
       "      <th>証券1の予想株式投資収益率</th>\n",
       "      <td>6.0</td>\n",
       "      <td>-2.0</td>\n",
       "    </tr>\n",
       "    <tr>\n",
       "      <th>証券2の予想株式投資収益率</th>\n",
       "      <td>-4.0</td>\n",
       "      <td>12.0</td>\n",
       "    </tr>\n",
       "  </tbody>\n",
       "</table>\n",
       "</div>"
      ],
      "text/plain": [
       "               好景気   不景気\n",
       "確率             0.5   0.5\n",
       "証券1の予想株式投資収益率  6.0  -2.0\n",
       "証券2の予想株式投資収益率 -4.0  12.0"
      ]
     },
     "execution_count": 7,
     "metadata": {},
     "output_type": "execute_result"
    }
   ],
   "source": [
    "import pandas as pd \n",
    "\n",
    "financial_table = pd.DataFrame({'好景気': [0.5 ,6, -4],\n",
    "                                '不景気': [0.5 ,-2, 12]\n",
    "                                },\n",
    "                index=['確率', '証券1の予想株式投資収益率','証券2の予想株式投資収益率'])\n",
    "\n",
    "financial_table"
   ]
  },
  {
   "cell_type": "markdown",
   "metadata": {},
   "source": [
    "<h2>散布図で２つの証券のリスクの相互関係をみる</h2>"
   ]
  },
  {
   "cell_type": "code",
   "execution_count": 8,
   "metadata": {
    "scrolled": true
   },
   "outputs": [
    {
     "data": {
      "image/png": "[encoded data removed]",
      "text/plain": [
       "<Figure size 432x288 with 1 Axes>"
      ]
     },
     "metadata": {
      "needs_background": "light"
     },
     "output_type": "display_data"
    }
   ],
   "source": [
    "import matplotlib.pyplot as plt\n",
    "\n",
    "x =  [financial_table.loc['証券1の予想株式投資収益率','好景気'] ,financial_table.loc['証券1の予想株式投資収益率','不景気']]\n",
    "y =  [financial_table.loc['証券2の予想株式投資収益率','好景気'] ,financial_table.loc['証券2の予想株式投資収益率','不景気']]\n",
    "plt.scatter(x, y)\n",
    "#投資収益率のリスクの相互関係\n",
    "plt.title(\"2stocks mutual relationship\")\n",
    "plt.xlabel(\"stock1\")\n",
    "plt.ylabel(\"stock2\")\n",
    "plt.grid(True)"
   ]
  },
  {
   "cell_type": "markdown",
   "metadata": {},
   "source": [
    "<h2>数値化し２つの証券のリスクの相互関係をみる(1)</h2>"
   ]
  },
  {
   "cell_type": "code",
   "execution_count": 9,
   "metadata": {},
   "outputs": [
    {
     "name": "stdout",
     "output_type": "stream",
     "text": [
      "証券1のリターン：2.0％\n",
      "証券2のリターン：4.0％\n"
     ]
    }
   ],
   "source": [
    "import math\n",
    "\n",
    "#証券1のリターン\n",
    "stock1_return = ( financial_table.loc['確率','好景気']   \n",
    "                * financial_table.loc['証券1の予想株式投資収益率','好景気'] \n",
    "                + financial_table.loc['確率','不景気']  \n",
    "                * financial_table.loc['証券1の予想株式投資収益率','不景気'] \n",
    "                )\n",
    "print(f\"証券1のリターン：{stock1_return}％\")\n",
    "\n",
    "\n",
    "#証券2の期待リターン\n",
    "stock2_return = ( financial_table.loc['確率','好景気']  \n",
    "                * financial_table.loc['証券2の予想株式投資収益率','好景気'] \n",
    "                + financial_table.loc['確率','不景気'] \n",
    "                * financial_table.loc['証券2の予想株式投資収益率','不景気'] \n",
    "                )\n",
    "print(f\"証券2のリターン：{stock2_return}％\")"
   ]
  },
  {
   "cell_type": "code",
   "execution_count": 10,
   "metadata": {},
   "outputs": [
    {
     "name": "stdout",
     "output_type": "stream",
     "text": [
      "共分散：-32.0\n"
     ]
    }
   ],
   "source": [
    "#証券1と証券2の共分散を求める\n",
    "covariance = (   financial_table.loc['確率','好景気'] \n",
    "               *(financial_table.loc['証券1の予想株式投資収益率','好景気'] - stock1_return)\n",
    "               *(financial_table.loc['証券2の予想株式投資収益率','好景気'] - stock2_return)\n",
    "               + financial_table.loc['確率','好景気'] \n",
    "               *(financial_table.loc['証券1の予想株式投資収益率','不景気'] - stock1_return)\n",
    "               *(financial_table.loc['証券2の予想株式投資収益率','不景気'] - stock2_return)\n",
    "              )\n",
    "print(f\"共分散：{covariance}\")"
   ]
  },
  {
   "cell_type": "markdown",
   "metadata": {},
   "source": [
    "<h2>数値化し２つの証券のリスクの相互関係をみる(2)</h2>"
   ]
  },
  {
   "cell_type": "code",
   "execution_count": 11,
   "metadata": {},
   "outputs": [
    {
     "name": "stdout",
     "output_type": "stream",
     "text": [
      "2のリスク（分散）：16.0％^2\n",
      "株式2のリスク（標準偏差）：4.0％\n",
      "株式2のリスク（分散）：64.0％^2\n",
      "株式2のリスク（標準偏差）：8.0％\n"
     ]
    }
   ],
   "source": [
    "\"\"\"\n",
    "証券1と証券2の共分散 = 証券1と証券2の相関係数 * 証券1の標準偏差 * 証券2の標準偏差\n",
    "\n",
    " ⇒ 証券1と証券2の相関係数 = 証券1と証券2の共分散/(証券1の標準偏差 * 証券2の標準偏差)\n",
    "\n",
    "\"\"\"\n",
    "import math\n",
    "#証券1のリスク\n",
    "stock1_risk_var =(  financial_table.loc['確率','好景気']  \n",
    "                  * (financial_table.loc['証券1の予想株式投資収益率','好景気'] - stock1_return)**2\n",
    "                  +  financial_table.loc['確率','不景気']  \n",
    "                  * (financial_table.loc['証券1の予想株式投資収益率','不景気'] - stock1_return)**2\n",
    "                  )\n",
    "\n",
    "stock1_risk_stv = math.sqrt(stock1_risk_var)\n",
    "\n",
    "print(f\"2のリスク（分散）：{stock1_risk_var}％^2\")\n",
    "print(f\"株式2のリスク（標準偏差）：{stock1_risk_stv}％\")\n",
    "\n",
    "\n",
    "#証券2のリスク\n",
    "stock2_risk_var =(  financial_table.loc['確率','好景気']  \n",
    "                  * (financial_table.loc['証券2の予想株式投資収益率','好景気'] - stock2_return)**2\n",
    "                  +  financial_table.loc['確率','不景気']  \n",
    "                  * (financial_table.loc['証券2の予想株式投資収益率','不景気'] - stock2_return)**2\n",
    "                  )\n",
    "\n",
    "stock2_risk_stv = math.sqrt(stock2_risk_var)\n",
    "\n",
    "print(f\"株式2のリスク（分散）：{stock2_risk_var}％^2\")\n",
    "print(f\"株式2のリスク（標準偏差）：{stock2_risk_stv}％\")"
   ]
  },
  {
   "cell_type": "code",
   "execution_count": 12,
   "metadata": {},
   "outputs": [
    {
     "name": "stdout",
     "output_type": "stream",
     "text": [
      "相関係数：-1.0\n"
     ]
    }
   ],
   "source": [
    "\"\"\"\n",
    "証券1と証券2の共分散 = 証券1と証券2の相関係数 * 証券1の標準偏差 * 証券2の標準偏差\n",
    "\n",
    " ⇒ 証券1と証券2の相関係数 = 証券1と証券2の共分散/(証券1の標準偏差 * 証券2の標準偏差)\n",
    "\n",
    "\"\"\"\n",
    "correlation_coefficient = covariance/(stock1_risk_stv * stock2_risk_stv)\n",
    "print(f\"相関係数：{correlation_coefficient}\")"
   ]
  },
  {
   "cell_type": "markdown",
   "metadata": {},
   "source": [
    "<h2>２つの証券のポートフォリオリターンを求める</h2>"
   ]
  },
  {
   "cell_type": "code",
   "execution_count": 13,
   "metadata": {},
   "outputs": [
    {
     "name": "stdout",
     "output_type": "stream",
     "text": [
      "ポートフォリオリターン:3.0％\n"
     ]
    }
   ],
   "source": [
    "#例として、証券1を50% 証券2を50%の投資比率で割り当ててポートフォリオを組む\n",
    "portfolio_return = 0.5 * stock1_return + 0.5 * stock2_return \n",
    "print(f\"ポートフォリオリターン:{portfolio_return}％\")\n",
    "\n",
    "#リターンは下がっているがどんな状況でも安定して収益がある方がよい"
   ]
  },
  {
   "cell_type": "markdown",
   "metadata": {},
   "source": [
    "<h2>２つの証券のポートフォリオリスクを求める</h2>"
   ]
  },
  {
   "cell_type": "code",
   "execution_count": 14,
   "metadata": {},
   "outputs": [
    {
     "data": {
      "text/html": [
       "<div>\n",
       "<style scoped>\n",
       "    .dataframe tbody tr th:only-of-type {\n",
       "        vertical-align: middle;\n",
       "    }\n",
       "\n",
       "    .dataframe tbody tr th {\n",
       "        vertical-align: top;\n",
       "    }\n",
       "\n",
       "    .dataframe thead th {\n",
       "        text-align: right;\n",
       "    }\n",
       "</style>\n",
       "<table border=\"1\" class=\"dataframe\">\n",
       "  <thead>\n",
       "    <tr style=\"text-align: right;\">\n",
       "      <th></th>\n",
       "      <th>証券1</th>\n",
       "      <th>証券2</th>\n",
       "    </tr>\n",
       "  </thead>\n",
       "  <tbody>\n",
       "    <tr>\n",
       "      <th>証券1</th>\n",
       "      <td>証券1の分散：16.0</td>\n",
       "      <td>共分散：-32.0</td>\n",
       "    </tr>\n",
       "    <tr>\n",
       "      <th>証券2</th>\n",
       "      <td>共分散：-32.0</td>\n",
       "      <td>証券1の分散：64.0</td>\n",
       "    </tr>\n",
       "  </tbody>\n",
       "</table>\n",
       "</div>"
      ],
      "text/plain": [
       "             証券1          証券2\n",
       "証券1  証券1の分散：16.0    共分散：-32.0\n",
       "証券2    共分散：-32.0  証券1の分散：64.0"
      ]
     },
     "execution_count": 14,
     "metadata": {},
     "output_type": "execute_result"
    }
   ],
   "source": [
    "import pandas as pd \n",
    "\n",
    "portfolio_matrix = pd.DataFrame({'証券1': [f\"証券1の分散：{stock1_risk_var}\", f\"共分散：{covariance}\"],\n",
    "                                '証券2': [f\"共分散：{covariance}\", f\"証券1の分散：{stock2_risk_var}\"]\n",
    "                                },\n",
    "                index=['証券1','証券2'])\n",
    "\n",
    "portfolio_matrix"
   ]
  },
  {
   "cell_type": "code",
   "execution_count": 15,
   "metadata": {},
   "outputs": [
    {
     "data": {
      "text/html": [
       "<div>\n",
       "<style scoped>\n",
       "    .dataframe tbody tr th:only-of-type {\n",
       "        vertical-align: middle;\n",
       "    }\n",
       "\n",
       "    .dataframe tbody tr th {\n",
       "        vertical-align: top;\n",
       "    }\n",
       "\n",
       "    .dataframe thead th {\n",
       "        text-align: right;\n",
       "    }\n",
       "</style>\n",
       "<table border=\"1\" class=\"dataframe\">\n",
       "  <thead>\n",
       "    <tr style=\"text-align: right;\">\n",
       "      <th></th>\n",
       "      <th>証券1</th>\n",
       "      <th>証券2</th>\n",
       "    </tr>\n",
       "  </thead>\n",
       "  <tbody>\n",
       "    <tr>\n",
       "      <th>投資比率</th>\n",
       "      <td>0.5</td>\n",
       "      <td>0.5</td>\n",
       "    </tr>\n",
       "    <tr>\n",
       "      <th>証券1(50%)</th>\n",
       "      <td>0.5*0.5*証券1の分散</td>\n",
       "      <td>0.5*0.5*共分散</td>\n",
       "    </tr>\n",
       "    <tr>\n",
       "      <th>証券2(50%)</th>\n",
       "      <td>0.5*0.5*共分散</td>\n",
       "      <td>0.5*0.5*証券1の分散</td>\n",
       "    </tr>\n",
       "  </tbody>\n",
       "</table>\n",
       "</div>"
      ],
      "text/plain": [
       "                     証券1             証券2\n",
       "投資比率                 0.5             0.5\n",
       "証券1(50%)  0.5*0.5*証券1の分散     0.5*0.5*共分散\n",
       "証券2(50%)     0.5*0.5*共分散  0.5*0.5*証券1の分散"
      ]
     },
     "execution_count": 15,
     "metadata": {},
     "output_type": "execute_result"
    }
   ],
   "source": [
    "portfolio_matrix2 = pd.DataFrame({'証券1': [0.5, f\"0.5*0.5*証券1の分散\", f\"0.5*0.5*共分散\"],\n",
    "                                '証券2': [0.5, f\"0.5*0.5*共分散\", f\"0.5*0.5*証券1の分散\"]\n",
    "                                },\n",
    "                index=['投資比率','証券1(50%)', '証券2(50%)'])\n",
    "\n",
    "portfolio_matrix2"
   ]
  },
  {
   "cell_type": "code",
   "execution_count": 23,
   "metadata": {},
   "outputs": [
    {
     "name": "stdout",
     "output_type": "stream",
     "text": [
      "ポートフォリオのリスク（分散）：4.0％^2\n",
      "ポートフォリオのリスク（標準偏差）：2.0%\n"
     ]
    }
   ],
   "source": [
    "import pandas as pd \n",
    "import math\n",
    "\n",
    "portfolio_risk_var =(   0.5 * 0.5 * stock1_risk_var\n",
    "                      + 0.5 * 0.5 * stock2_risk_var\n",
    "                      + 2   * 0.5 * 0.5 * covariance\n",
    "                    )\n",
    "\n",
    "portfolio_risk_stv = math.sqrt(portfolio_risk_var)\n",
    "print(f\"ポートフォリオのリスク（分散）：{portfolio_risk_var}％^2\")\n",
    "print(f\"ポートフォリオのリスク（標準偏差）：{portfolio_risk_stv}%\")"
   ]
  },
  {
   "cell_type": "markdown",
   "metadata": {},
   "source": [
    "<h2>２つの証券のポートフォリオリターンとリスクを描画する</h2>"
   ]
  },
  {
   "cell_type": "code",
   "execution_count": 17,
   "metadata": {},
   "outputs": [],
   "source": [
    "def portfolio_return(portfolio_rate1, stock1_return , stock2_return):\n",
    "    portfolio_rate2 = 1.0 - portfolio_rate1\n",
    "    return portfolio_rate1 * stock1_return + portfolio_rate2 * stock2_return \n",
    "\n",
    "\n",
    "def portfolio_risk_var(portfolio_rate1, stock1_risk_var, stock2_risk_var,covariance):\n",
    "    portfolio_rate2 = 1.0 - portfolio_rate1\n",
    "    return  (     portfolio_rate1 * portfolio_rate1 * stock1_risk_var\n",
    "                 + portfolio_rate2 * portfolio_rate2 * stock2_risk_var\n",
    "             + 2 * portfolio_rate1 * portfolio_rate2 * covariance  \n",
    "             )"
   ]
  },
  {
   "cell_type": "code",
   "execution_count": 18,
   "metadata": {},
   "outputs": [],
   "source": [
    "stock1_return = ( financial_table.loc['確率','好景気']   \n",
    "                * financial_table.loc['証券1の予想株式投資収益率','好景気'] \n",
    "                + financial_table.loc['確率','不景気']  \n",
    "                * financial_table.loc['証券1の予想株式投資収益率','不景気'] \n",
    "                )\n",
    "\n",
    "stock2_return = ( financial_table.loc['確率','好景気']  \n",
    "                * financial_table.loc['証券2の予想株式投資収益率','好景気'] \n",
    "                + financial_table.loc['確率','不景気'] \n",
    "                * financial_table.loc['証券2の予想株式投資収益率','不景気'] \n",
    "                )\n",
    "\n",
    "\n",
    "stock1_risk_var =(  financial_table.loc['確率','好景気']  \n",
    "                  * (financial_table.loc['証券1の予想株式投資収益率','好景気'] - stock1_return)**2\n",
    "                  +  financial_table.loc['確率','不景気']  \n",
    "                  * (financial_table.loc['証券1の予想株式投資収益率','不景気'] - stock1_return)**2\n",
    "                  )\n",
    "\n",
    "stock2_risk_var =(  financial_table.loc['確率','好景気']  \n",
    "                  * (financial_table.loc['証券2の予想株式投資収益率','好景気'] - stock2_return)**2\n",
    "                  +  financial_table.loc['確率','不景気']  \n",
    "                  * (financial_table.loc['証券2の予想株式投資収益率','不景気'] - stock2_return)**2\n",
    "                  )\n",
    "\n",
    "covariance = (   financial_table.loc['確率','好景気'] \n",
    "               *(financial_table.loc['証券1の予想株式投資収益率','好景気'] - stock1_return)\n",
    "               *(financial_table.loc['証券2の予想株式投資収益率','好景気'] - stock2_return)\n",
    "                +financial_table.loc['確率','好景気'] \n",
    "               *(financial_table.loc['証券1の予想株式投資収益率','不景気'] - stock1_return)\n",
    "               *(financial_table.loc['証券2の予想株式投資収益率','不景気'] - stock2_return)\n",
    "              )\n"
   ]
  },
  {
   "cell_type": "code",
   "execution_count": 19,
   "metadata": {},
   "outputs": [],
   "source": [
    "portfolio_return_li = [round(portfolio_return(portfolio_rate1 * 0.01, stock1_return , stock2_return) , 2)\n",
    "                       for portfolio_rate1 in range(100)] \n",
    "portfolio_risk_var_li = [round(portfolio_risk_var(portfolio_rate1 * 0.01, stock1_risk_var, stock2_risk_var, covariance) ,2)\n",
    "                          for portfolio_rate1 in range(100)]"
   ]
  },
  {
   "cell_type": "code",
   "execution_count": 20,
   "metadata": {},
   "outputs": [
    {
     "data": {
      "image/png": "[encoded data removed]",
      "text/plain": [
       "<Figure size 432x288 with 1 Axes>"
      ]
     },
     "metadata": {
      "needs_background": "light"
     },
     "output_type": "display_data"
    }
   ],
   "source": [
    "import matplotlib.pyplot as plt\n",
    "\n",
    "plt.plot(portfolio_risk_var_li, portfolio_return_li, label=\"portfolio_risk_return\")\n",
    "\n",
    "# 凡例の表示\n",
    "plt.legend()\n",
    "\n",
    "#装飾\n",
    "\n",
    "plt.xlabel('risk(%^2)')\n",
    "plt.ylabel('return(%)')\n",
    "\n",
    "# プロット表示(設定の反映)%\n",
    "plt.show()\n"
   ]
  },
  {
   "cell_type": "markdown",
   "metadata": {},
   "source": [
    "<h2>２つの証券のポートフォリオリスクの最小を求める</h2>"
   ]
  },
  {
   "cell_type": "code",
   "execution_count": 22,
   "metadata": {},
   "outputs": [
    {
     "name": "stdout",
     "output_type": "stream",
     "text": [
      "証券1の投資比率：0.67\n",
      "証券2の投資比率：0.33\n"
     ]
    }
   ],
   "source": [
    "\"\"\"\n",
    "ラグランジュアンの未定乗数法により、ポートフォリオリスク最小化は\n",
    "\n",
    "証券1の組み入れ比率 = (証券2のリスク（分散）- 共分散)\n",
    "                   / (証券1のリスク（分散）+ 証券2のリスク（分散）- 2 * 共分散)\n",
    "\n",
    "証券2の組み入れ比率 = 1.0 - 証券1の組み入れ比率\n",
    "                   \n",
    "\"\"\"\n",
    "\n",
    "portfolio_rate1 = (stock2_risk_var - covariance)/(stock1_risk_var + stock2_risk_var - 2 * covariance)\n",
    "portfolio_rate2 = 1.0 - portfolio_rate1\n",
    "print(f\"証券1の投資比率：{round(portfolio_rate1, 2)}\")\n",
    "\n",
    "print(f\"証券2の投資比率：{round(portfolio_rate2, 2)}\")"
   ]
  },
  {
   "cell_type": "code",
   "execution_count": null,
   "metadata": {},
   "outputs": [],
   "source": []
  }
 ],
 "metadata": {
  "kernelspec": {
   "display_name": "Python 3",
   "language": "python",
   "name": "python3"
  },
  "language_info": {
   "codemirror_mode": {
    "name": "ipython",
    "version": 3
   },
   "file_extension": ".py",
   "mimetype": "text/x-python",
   "name": "python",
   "nbconvert_exporter": "python",
   "pygments_lexer": "ipython3",
   "version": "3.7.6"
  }
 },
 "nbformat": 4,
 "nbformat_minor": 4
}
