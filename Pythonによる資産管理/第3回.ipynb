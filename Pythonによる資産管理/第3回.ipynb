{
 "cells": [
  {
   "cell_type": "markdown",
   "metadata": {},
   "source": [
    "<h2 style =\"color:green;\">Pythonで銘柄数に限らず最もリスクの小さい組み合わせを求めよう</h2>"
   ]
  },
  {
   "cell_type": "code",
   "execution_count": 1,
   "metadata": {},
   "outputs": [
    {
     "data": {
      "text/html": [
       "<div>\n",
       "<style scoped>\n",
       "    .dataframe tbody tr th:only-of-type {\n",
       "        vertical-align: middle;\n",
       "    }\n",
       "\n",
       "    .dataframe tbody tr th {\n",
       "        vertical-align: top;\n",
       "    }\n",
       "\n",
       "    .dataframe thead th {\n",
       "        text-align: right;\n",
       "    }\n",
       "</style>\n",
       "<table border=\"1\" class=\"dataframe\">\n",
       "  <thead>\n",
       "    <tr style=\"text-align: right;\">\n",
       "      <th></th>\n",
       "      <th>好景気</th>\n",
       "      <th>不景気</th>\n",
       "    </tr>\n",
       "  </thead>\n",
       "  <tbody>\n",
       "    <tr>\n",
       "      <th>確率</th>\n",
       "      <td>0.5</td>\n",
       "      <td>0.5</td>\n",
       "    </tr>\n",
       "    <tr>\n",
       "      <th>証券1の予想株式投資収益率</th>\n",
       "      <td>6.0</td>\n",
       "      <td>-2.0</td>\n",
       "    </tr>\n",
       "    <tr>\n",
       "      <th>証券2の予想株式投資収益率</th>\n",
       "      <td>-4.0</td>\n",
       "      <td>12.0</td>\n",
       "    </tr>\n",
       "    <tr>\n",
       "      <th>証券3の予想株式投資収益率</th>\n",
       "      <td>-1.0</td>\n",
       "      <td>3.0</td>\n",
       "    </tr>\n",
       "    <tr>\n",
       "      <th>証券4の予想株式投資収益率</th>\n",
       "      <td>7.0</td>\n",
       "      <td>-5.0</td>\n",
       "    </tr>\n",
       "    <tr>\n",
       "      <th>証券5の予想株式投資収益率</th>\n",
       "      <td>-4.0</td>\n",
       "      <td>9.0</td>\n",
       "    </tr>\n",
       "  </tbody>\n",
       "</table>\n",
       "</div>"
      ],
      "text/plain": [
       "               好景気   不景気\n",
       "確率             0.5   0.5\n",
       "証券1の予想株式投資収益率  6.0  -2.0\n",
       "証券2の予想株式投資収益率 -4.0  12.0\n",
       "証券3の予想株式投資収益率 -1.0   3.0\n",
       "証券4の予想株式投資収益率  7.0  -5.0\n",
       "証券5の予想株式投資収益率 -4.0   9.0"
      ]
     },
     "execution_count": 1,
     "metadata": {},
     "output_type": "execute_result"
    }
   ],
   "source": [
    "import pandas as pd \n",
    "                #1行目以降に収益率を記載\n",
    "good_times_li = [0.5 ,6, -4,-1,7,-4]\n",
    "hard_times_li = [0.5 ,-2, 12,3,-5,9]\n",
    "\n",
    "#######################################################\n",
    "f_index_li = ['確率']\n",
    "for i in range(len(good_times_li)-1):\n",
    "    f_index_li.append(f\"証券{i+1}の予想株式投資収益率\")\n",
    "    \n",
    "\n",
    "financial_table = pd.DataFrame({'好景気': good_times_li,\n",
    "                                '不景気': hard_times_li\n",
    "                                },\n",
    "                index= f_index_li)\n",
    "\n",
    "financial_table"
   ]
  },
  {
   "cell_type": "markdown",
   "metadata": {},
   "source": [
    "<h2>分散共分散行列の表を作成する</h2>"
   ]
  },
  {
   "cell_type": "code",
   "execution_count": 2,
   "metadata": {},
   "outputs": [],
   "source": [
    "def stock_return(good_times_return, hard_times_return):\n",
    "                    \n",
    "    return_value = (  \n",
    "                     financial_table.loc['確率','好景気']  * good_times_return\n",
    "                   + financial_table.loc['確率','好景気'] * hard_times_return\n",
    "                    )\n",
    "    return  return_value\n",
    "\n",
    "def covariance(good_times_returnA, hard_times_returnA, stockA_return,\n",
    "                good_times_returnB, hard_times_returnB, stockB_return):\n",
    "    \n",
    "    covariance_value = (   financial_table.loc['確率','好景気'] \n",
    "                       * (good_times_returnA - stockA_return)\n",
    "                       * (good_times_returnB - stockB_return)\n",
    "                       + financial_table.loc['確率','不景気'] \n",
    "                       * (hard_times_returnA- stockA_return)\n",
    "                       * (hard_times_returnB - stockB_return)\n",
    "                    )\n",
    "    return  covariance_value"
   ]
  },
  {
   "cell_type": "code",
   "execution_count": 3,
   "metadata": {
    "scrolled": false
   },
   "outputs": [
    {
     "data": {
      "text/html": [
       "<div>\n",
       "<style scoped>\n",
       "    .dataframe tbody tr th:only-of-type {\n",
       "        vertical-align: middle;\n",
       "    }\n",
       "\n",
       "    .dataframe tbody tr th {\n",
       "        vertical-align: top;\n",
       "    }\n",
       "\n",
       "    .dataframe thead th {\n",
       "        text-align: right;\n",
       "    }\n",
       "</style>\n",
       "<table border=\"1\" class=\"dataframe\">\n",
       "  <thead>\n",
       "    <tr style=\"text-align: right;\">\n",
       "      <th></th>\n",
       "      <th>stock1</th>\n",
       "      <th>stock2</th>\n",
       "      <th>stock3</th>\n",
       "      <th>stock4</th>\n",
       "      <th>stock5</th>\n",
       "    </tr>\n",
       "  </thead>\n",
       "  <tbody>\n",
       "    <tr>\n",
       "      <th>stock1</th>\n",
       "      <td>16.0</td>\n",
       "      <td>-32.0</td>\n",
       "      <td>-8.0</td>\n",
       "      <td>24.0</td>\n",
       "      <td>-26.00</td>\n",
       "    </tr>\n",
       "    <tr>\n",
       "      <th>stock2</th>\n",
       "      <td>-32.0</td>\n",
       "      <td>64.0</td>\n",
       "      <td>16.0</td>\n",
       "      <td>-48.0</td>\n",
       "      <td>52.00</td>\n",
       "    </tr>\n",
       "    <tr>\n",
       "      <th>stock3</th>\n",
       "      <td>-8.0</td>\n",
       "      <td>16.0</td>\n",
       "      <td>4.0</td>\n",
       "      <td>-12.0</td>\n",
       "      <td>13.00</td>\n",
       "    </tr>\n",
       "    <tr>\n",
       "      <th>stock4</th>\n",
       "      <td>24.0</td>\n",
       "      <td>-48.0</td>\n",
       "      <td>-12.0</td>\n",
       "      <td>36.0</td>\n",
       "      <td>-39.00</td>\n",
       "    </tr>\n",
       "    <tr>\n",
       "      <th>stock5</th>\n",
       "      <td>-26.0</td>\n",
       "      <td>52.0</td>\n",
       "      <td>13.0</td>\n",
       "      <td>-39.0</td>\n",
       "      <td>42.25</td>\n",
       "    </tr>\n",
       "  </tbody>\n",
       "</table>\n",
       "</div>"
      ],
      "text/plain": [
       "        stock1  stock2  stock3  stock4  stock5\n",
       "stock1    16.0   -32.0    -8.0    24.0  -26.00\n",
       "stock2   -32.0    64.0    16.0   -48.0   52.00\n",
       "stock3    -8.0    16.0     4.0   -12.0   13.00\n",
       "stock4    24.0   -48.0   -12.0    36.0  -39.00\n",
       "stock5   -26.0    52.0    13.0   -39.0   42.25"
      ]
     },
     "execution_count": 3,
     "metadata": {},
     "output_type": "execute_result"
    }
   ],
   "source": [
    "stock_return_li = []\n",
    "r_index_li = []\n",
    "for i in range(len(financial_table)-1):\n",
    "    return_value = stock_return(financial_table.loc[f\"証券{i+1}の予想株式投資収益率\",\"好景気\"], financial_table.loc[f\"証券{i+1}の予想株式投資収益率\",\"不景気\"])\n",
    "    stock_return_li.append(return_value)\n",
    "    r_index_li.append(f\"stock{i+1}\")\n",
    "    \n",
    "return_table = pd.DataFrame({\"Return\": stock_return_li},\n",
    "                           index= r_index_li)\n",
    " \n",
    "\n",
    "c_index_li=[]\n",
    "covar_li = []\n",
    "covar_matrix = pd.DataFrame()\n",
    "for a in range(len(financial_table)-1):\n",
    "    c_index_li.append(f\"stock{a+1}\")\n",
    "    for b in range(len(financial_table)-1):\n",
    "        covar_value = covariance(financial_table.loc[f\"証券{a+1}の予想株式投資収益率\",\"好景気\"], financial_table.loc[f\"証券{a+1}の予想株式投資収益率\",\"不景気\"], return_table.loc[f\"stock{a+1}\",\"Return\"],\n",
    "                                 financial_table.loc[f\"証券{b+1}の予想株式投資収益率\",\"好景気\"], financial_table.loc[f\"証券{b+1}の予想株式投資収益率\",\"不景気\"], return_table.loc[f\"stock{b+1}\",\"Return\"])\n",
    "        \n",
    "        covar_li.append(covar_value)\n",
    "        \n",
    "        if len(financial_table)-1 <= len(covar_li):\n",
    "            covar_wrapper = pd.DataFrame({f\"stock{a+1}\":covar_li})\n",
    "            covar_matrix = pd.concat([covar_matrix, covar_wrapper], axis=1)\n",
    "            covar_li = []\n",
    "        \n",
    "covar_matrix.index = c_index_li\n",
    "covar_matrix"
   ]
  },
  {
   "cell_type": "markdown",
   "metadata": {},
   "source": [
    "<h3>リスク最小化の組み合わせを求める</h3>"
   ]
  },
  {
   "cell_type": "code",
   "execution_count": 4,
   "metadata": {},
   "outputs": [],
   "source": [
    "import pandas as pd\n",
    "import numpy as np\n",
    "from pypfopt.efficient_frontier import EfficientFrontier\n",
    "from pypfopt import risk_models\n",
    "from pypfopt import expected_returns\n",
    "import math"
   ]
  },
  {
   "cell_type": "code",
   "execution_count": 5,
   "metadata": {},
   "outputs": [],
   "source": [
    "#効率的フロンティアの生成\n",
    "ef = EfficientFrontier(stock_return_li, covar_matrix)"
   ]
  },
  {
   "cell_type": "code",
   "execution_count": 6,
   "metadata": {},
   "outputs": [
    {
     "data": {
      "text/plain": [
       "OrderedDict([('stock1', 0.2426205933857742),\n",
       "             ('stock2', 0.0293287250109667),\n",
       "             ('stock3', 0.5591708815553917),\n",
       "             ('stock4', 0.1184166311973248),\n",
       "             ('stock5', 0.0504631688505429)])"
      ]
     },
     "execution_count": 6,
     "metadata": {},
     "output_type": "execute_result"
    }
   ],
   "source": [
    "#リターンを考慮せずリスク最小化を求める\n",
    "ef.min_volatility()"
   ]
  },
  {
   "cell_type": "code",
   "execution_count": 7,
   "metadata": {
    "scrolled": true
   },
   "outputs": [
    {
     "data": {
      "text/plain": [
       "OrderedDict([('stock1', 0.2426223177366535),\n",
       "             ('stock2', 0.0293436393315356),\n",
       "             ('stock3', 0.5591383167139968),\n",
       "             ('stock4', 0.1184286958039566),\n",
       "             ('stock5', 0.0504670304138576)])"
      ]
     },
     "execution_count": 7,
     "metadata": {},
     "output_type": "execute_result"
    }
   ],
   "source": [
    "#目標リターンありきでリスク最小化を求める\n",
    "ef.efficient_return(target_return=0.1)"
   ]
  },
  {
   "cell_type": "markdown",
   "metadata": {},
   "source": [
    "<h3>効率最大化の組み合わせを求める</h3>"
   ]
  },
  {
   "cell_type": "code",
   "execution_count": 8,
   "metadata": {},
   "outputs": [
    {
     "data": {
      "text/plain": [
       "OrderedDict([('stock1', 0.3757653297251536),\n",
       "             ('stock2', 0.1192273792849418),\n",
       "             ('stock3', 0.2954563773127834),\n",
       "             ('stock4', 0.1123001127124619),\n",
       "             ('stock5', 0.0972508009646592)])"
      ]
     },
     "execution_count": 8,
     "metadata": {},
     "output_type": "execute_result"
    }
   ],
   "source": [
    "ef.max_sharpe(risk_free_rate=0.0)"
   ]
  }
 ],
 "metadata": {
  "kernelspec": {
   "display_name": "Python 3",
   "language": "python",
   "name": "python3"
  },
  "language_info": {
   "codemirror_mode": {
    "name": "ipython",
    "version": 3
   },
   "file_extension": ".py",
   "mimetype": "text/x-python",
   "name": "python",
   "nbconvert_exporter": "python",
   "pygments_lexer": "ipython3",
   "version": "3.7.6"
  }
 },
 "nbformat": 4,
 "nbformat_minor": 4
}
